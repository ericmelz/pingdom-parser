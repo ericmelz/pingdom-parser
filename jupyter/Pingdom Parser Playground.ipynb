{
 "cells": [
  {
   "cell_type": "code",
   "execution_count": 1,
   "id": "bead1160",
   "metadata": {},
   "outputs": [],
   "source": [
    "import pandas as pd"
   ]
  },
  {
   "cell_type": "code",
   "execution_count": 2,
   "id": "a4819668",
   "metadata": {},
   "outputs": [],
   "source": [
    "df = pd.read_csv('/Users/emelz/Documents/code/pingdom-parser/jupyter/data/report.csv')"
   ]
  },
  {
   "cell_type": "code",
   "execution_count": 3,
   "id": "af892fda",
   "metadata": {},
   "outputs": [
    {
     "data": {
      "text/html": [
       "<div>\n",
       "<style scoped>\n",
       "    .dataframe tbody tr th:only-of-type {\n",
       "        vertical-align: middle;\n",
       "    }\n",
       "\n",
       "    .dataframe tbody tr th {\n",
       "        vertical-align: top;\n",
       "    }\n",
       "\n",
       "    .dataframe thead th {\n",
       "        text-align: right;\n",
       "    }\n",
       "</style>\n",
       "<table border=\"1\" class=\"dataframe\">\n",
       "  <thead>\n",
       "    <tr style=\"text-align: right;\">\n",
       "      <th></th>\n",
       "      <th>Status</th>\n",
       "      <th>Date and Time</th>\n",
       "      <th>Response Time (ms)</th>\n",
       "      <th>Error</th>\n",
       "      <th>Location</th>\n",
       "    </tr>\n",
       "  </thead>\n",
       "  <tbody>\n",
       "    <tr>\n",
       "      <th>0</th>\n",
       "      <td>up</td>\n",
       "      <td>03/30/2022 01:52:33 PM</td>\n",
       "      <td>703 ms</td>\n",
       "      <td>OK</td>\n",
       "      <td>Stockholm 2 (Sweden)</td>\n",
       "    </tr>\n",
       "    <tr>\n",
       "      <th>1</th>\n",
       "      <td>up</td>\n",
       "      <td>03/30/2022 01:51:33 PM</td>\n",
       "      <td>402 ms</td>\n",
       "      <td>OK</td>\n",
       "      <td>Los Angeles 3 (CA)</td>\n",
       "    </tr>\n",
       "    <tr>\n",
       "      <th>2</th>\n",
       "      <td>up</td>\n",
       "      <td>03/30/2022 01:50:33 PM</td>\n",
       "      <td>259 ms</td>\n",
       "      <td>OK</td>\n",
       "      <td>Philadelphia 2 (PA)</td>\n",
       "    </tr>\n",
       "    <tr>\n",
       "      <th>3</th>\n",
       "      <td>up</td>\n",
       "      <td>03/30/2022 01:49:33 PM</td>\n",
       "      <td>473 ms</td>\n",
       "      <td>OK</td>\n",
       "      <td>Portland 2 (OR)</td>\n",
       "    </tr>\n",
       "    <tr>\n",
       "      <th>4</th>\n",
       "      <td>up</td>\n",
       "      <td>03/30/2022 01:48:33 PM</td>\n",
       "      <td>523 ms</td>\n",
       "      <td>OK</td>\n",
       "      <td>Frankfurt 3 (Germany)</td>\n",
       "    </tr>\n",
       "  </tbody>\n",
       "</table>\n",
       "</div>"
      ],
      "text/plain": [
       "  Status           Date and Time Response Time (ms) Error  \\\n",
       "0     up  03/30/2022 01:52:33 PM             703 ms    OK   \n",
       "1     up  03/30/2022 01:51:33 PM             402 ms    OK   \n",
       "2     up  03/30/2022 01:50:33 PM             259 ms    OK   \n",
       "3     up  03/30/2022 01:49:33 PM             473 ms    OK   \n",
       "4     up  03/30/2022 01:48:33 PM             523 ms    OK   \n",
       "\n",
       "                Location  \n",
       "0   Stockholm 2 (Sweden)  \n",
       "1     Los Angeles 3 (CA)  \n",
       "2    Philadelphia 2 (PA)  \n",
       "3        Portland 2 (OR)  \n",
       "4  Frankfurt 3 (Germany)  "
      ]
     },
     "execution_count": 3,
     "metadata": {},
     "output_type": "execute_result"
    }
   ],
   "source": [
    "df.head()"
   ]
  },
  {
   "cell_type": "code",
   "execution_count": 6,
   "id": "d2a7c8af",
   "metadata": {},
   "outputs": [
    {
     "data": {
      "text/plain": [
       "11"
      ]
     },
     "execution_count": 6,
     "metadata": {},
     "output_type": "execute_result"
    }
   ],
   "source": [
    "locations = df.Location.unique()\n",
    "locations.size"
   ]
  },
  {
   "cell_type": "code",
   "execution_count": 7,
   "id": "b5ebef8c",
   "metadata": {},
   "outputs": [
    {
     "data": {
      "text/plain": [
       "array(['Stockholm 2 (Sweden)', 'Los Angeles 3 (CA)',\n",
       "       'Philadelphia 2 (PA)', 'Portland 2 (OR)', 'Frankfurt 3 (Germany)',\n",
       "       'Dusseldorf 2 (Germany)', 'Warsaw (Poland)', 'Chicago 2 (IL)',\n",
       "       'San Francisco 2 (CA)', 'Thessaloniki (Greece)', 'London 5 (UK)'],\n",
       "      dtype=object)"
      ]
     },
     "execution_count": 7,
     "metadata": {},
     "output_type": "execute_result"
    }
   ],
   "source": [
    "locations"
   ]
  },
  {
   "cell_type": "code",
   "execution_count": 91,
   "id": "6d19de9a",
   "metadata": {},
   "outputs": [],
   "source": [
    "# From https://janakiev.com/blog/gps-points-distance-python/\n",
    "import math\n",
    "\n",
    "def haversine(coord1, coord2):\n",
    "    #R = 6372800  # Earth radius in meters\n",
    "    R = 3958.756  # Earth radius miles\n",
    "    lat1, lon1 = coord1\n",
    "    lat2, lon2 = coord2\n",
    "    \n",
    "    phi1, phi2 = math.radians(lat1), math.radians(lat2) \n",
    "    dphi       = math.radians(lat2 - lat1)\n",
    "    dlambda    = math.radians(lon2 - lon1)\n",
    "    \n",
    "    a = math.sin(dphi/2)**2 + \\\n",
    "        math.cos(phi1)*math.cos(phi2)*math.sin(dlambda/2)**2\n",
    "    \n",
    "    return int(2*R*math.atan2(math.sqrt(a), math.sqrt(1 - a)))"
   ]
  },
  {
   "cell_type": "code",
   "execution_count": 92,
   "id": "13ca8a4c",
   "metadata": {},
   "outputs": [],
   "source": [
    "stockholm_lat = 59.334591\n",
    "stockholm_lon = 18.063240\n",
    "stockholm_coords = stockholm_lat, stockholm_lon\n",
    "\n",
    "la_lat = 34.052235\n",
    "la_lon = -118.243683\n",
    "la_coords = la_lat, la_lon\n",
    "\n",
    "phil_lat = 39.952583\n",
    "phil_lon = -75.165222\n",
    "phil_coords = phil_lat, phil_lon\n",
    "\n",
    "portland_lat = 45.523064\n",
    "portland_lon = -122.676483\n",
    "portland_coords = portland_lat, portland_lon\n",
    "\n",
    "frankfurt_lat = 50.110924\n",
    "frankfurt_lon = 8.682127\n",
    "frankfurt_coords = frankfurt_lat, frankfurt_lon\n",
    "\n",
    "dusseldorf_lat = 51.233334\n",
    "dusseldorf_lon = 6.783333\n",
    "dusseldorf_coords = dusseldorf_lat, dusseldorf_lon\n",
    "\n",
    "warsaw_lat = 52.237049\n",
    "warsaw_lon = 21.017532\n",
    "warsaw_coords = warsaw_lat, warsaw_lon\n",
    "\n",
    "chicago_lat = 41.881832\n",
    "chicago_lon = -87.623177\n",
    "chicago_coords = chicago_lat, chicago_lon\n",
    "\n",
    "sanfran_lat = 37.773972\n",
    "sanfran_lon = -122.431297\n",
    "sanfran_coords = sanfran_lat, sanfran_lon\n",
    "\n",
    "thessaloniki_lat = 40.629269\n",
    "thessaloniki_lon = 22.947412\n",
    "thessaloniki_coords = thessaloniki_lat, thessaloniki_lon\n",
    "\n",
    "london_lat = 51.509865\n",
    "london_lon = -0.118092\n",
    "london_coords = london_lat, london_lon\n",
    "\n",
    "va_lat = 39.006699\n",
    "va_lon = -77.429131\n",
    "va_coords = va_lat, va_lon\n",
    "\n",
    "\n",
    "data = [['Stockholm 2 (Sweden)', 'Stockholm', stockholm_lat, stockholm_lon, haversine(stockholm_coords, va_coords)],\n",
    "        ['Los Angeles 3 (CA)', 'Los Angeles', la_lat, la_lon, haversine(la_coords, va_coords)],\n",
    "        ['Philadelphia 2 (PA)', 'Philadelphia', phil_lat, phil_lon, haversine(phil_coords, va_coords)],\n",
    "        ['Portland 2 (OR)', 'Portland', portland_lat, portland_lon, haversine(portland_coords, va_coords)],\n",
    "        ['Frankfurt 3 (Germany)', 'Frankfurt', frankfurt_lat, frankfurt_lon, haversine(frankfurt_coords, va_coords)],\n",
    "        ['Dusseldorf 2 (Germany)', 'Dusseldorf', dusseldorf_lat, dusseldorf_lon, haversine(dusseldorf_coords, va_coords)],\n",
    "        ['Warsaw (Poland)', 'Warsaw', warsaw_lat, warsaw_lon, haversine(warsaw_coords, va_coords)],\n",
    "        ['Chicago 2 (IL)', 'Chicago', chicago_lat, chicago_lon, haversine(chicago_coords, va_coords)],\n",
    "        ['San Francisco 2 (CA)', 'San Francisco', sanfran_lat, sanfran_lon, haversine(sanfran_coords, va_coords)],\n",
    "        ['Thessaloniki (Greece)', 'Thessaloniki', thessaloniki_lat, thessaloniki_lon, haversine(thessaloniki_coords, va_coords)],\n",
    "        ['London 5 (UK)', 'London', london_lat, london_lon, haversine(london_coords, va_coords)]\n",
    "       ]"
   ]
  },
  {
   "cell_type": "code",
   "execution_count": 93,
   "id": "d7ed4af8",
   "metadata": {},
   "outputs": [],
   "source": [
    "df_loc = pd.DataFrame(data, columns = ['Location', 'Location_short', 'lat', 'lon', 'distance_mi'])"
   ]
  },
  {
   "cell_type": "code",
   "execution_count": 94,
   "id": "b07aaa2c",
   "metadata": {},
   "outputs": [
    {
     "data": {
      "text/html": [
       "<div>\n",
       "<style scoped>\n",
       "    .dataframe tbody tr th:only-of-type {\n",
       "        vertical-align: middle;\n",
       "    }\n",
       "\n",
       "    .dataframe tbody tr th {\n",
       "        vertical-align: top;\n",
       "    }\n",
       "\n",
       "    .dataframe thead th {\n",
       "        text-align: right;\n",
       "    }\n",
       "</style>\n",
       "<table border=\"1\" class=\"dataframe\">\n",
       "  <thead>\n",
       "    <tr style=\"text-align: right;\">\n",
       "      <th></th>\n",
       "      <th>Location</th>\n",
       "      <th>Location_short</th>\n",
       "      <th>lat</th>\n",
       "      <th>lon</th>\n",
       "      <th>distance_mi</th>\n",
       "    </tr>\n",
       "  </thead>\n",
       "  <tbody>\n",
       "    <tr>\n",
       "      <th>0</th>\n",
       "      <td>Stockholm 2 (Sweden)</td>\n",
       "      <td>Stockholm</td>\n",
       "      <td>59.334591</td>\n",
       "      <td>18.063240</td>\n",
       "      <td>4129</td>\n",
       "    </tr>\n",
       "    <tr>\n",
       "      <th>1</th>\n",
       "      <td>Los Angeles 3 (CA)</td>\n",
       "      <td>Los Angeles</td>\n",
       "      <td>34.052235</td>\n",
       "      <td>-118.243683</td>\n",
       "      <td>2272</td>\n",
       "    </tr>\n",
       "    <tr>\n",
       "      <th>2</th>\n",
       "      <td>Philadelphia 2 (PA)</td>\n",
       "      <td>Philadelphia</td>\n",
       "      <td>39.952583</td>\n",
       "      <td>-75.165222</td>\n",
       "      <td>137</td>\n",
       "    </tr>\n",
       "    <tr>\n",
       "      <th>3</th>\n",
       "      <td>Portland 2 (OR)</td>\n",
       "      <td>Portland</td>\n",
       "      <td>45.523064</td>\n",
       "      <td>-122.676483</td>\n",
       "      <td>2325</td>\n",
       "    </tr>\n",
       "    <tr>\n",
       "      <th>4</th>\n",
       "      <td>Frankfurt 3 (Germany)</td>\n",
       "      <td>Frankfurt</td>\n",
       "      <td>50.110924</td>\n",
       "      <td>8.682127</td>\n",
       "      <td>4068</td>\n",
       "    </tr>\n",
       "    <tr>\n",
       "      <th>5</th>\n",
       "      <td>Dusseldorf 2 (Germany)</td>\n",
       "      <td>Dusseldorf</td>\n",
       "      <td>51.233334</td>\n",
       "      <td>6.783333</td>\n",
       "      <td>3961</td>\n",
       "    </tr>\n",
       "    <tr>\n",
       "      <th>6</th>\n",
       "      <td>Warsaw (Poland)</td>\n",
       "      <td>Warsaw</td>\n",
       "      <td>52.237049</td>\n",
       "      <td>21.017532</td>\n",
       "      <td>4468</td>\n",
       "    </tr>\n",
       "    <tr>\n",
       "      <th>7</th>\n",
       "      <td>Chicago 2 (IL)</td>\n",
       "      <td>Chicago</td>\n",
       "      <td>41.881832</td>\n",
       "      <td>-87.623177</td>\n",
       "      <td>571</td>\n",
       "    </tr>\n",
       "    <tr>\n",
       "      <th>8</th>\n",
       "      <td>San Francisco 2 (CA)</td>\n",
       "      <td>San Francisco</td>\n",
       "      <td>37.773972</td>\n",
       "      <td>-122.431297</td>\n",
       "      <td>2413</td>\n",
       "    </tr>\n",
       "    <tr>\n",
       "      <th>9</th>\n",
       "      <td>Thessaloniki (Greece)</td>\n",
       "      <td>Thessaloniki</td>\n",
       "      <td>40.629269</td>\n",
       "      <td>22.947412</td>\n",
       "      <td>4997</td>\n",
       "    </tr>\n",
       "    <tr>\n",
       "      <th>10</th>\n",
       "      <td>London 5 (UK)</td>\n",
       "      <td>London</td>\n",
       "      <td>51.509865</td>\n",
       "      <td>-0.118092</td>\n",
       "      <td>3676</td>\n",
       "    </tr>\n",
       "  </tbody>\n",
       "</table>\n",
       "</div>"
      ],
      "text/plain": [
       "                  Location Location_short        lat         lon  distance_mi\n",
       "0     Stockholm 2 (Sweden)      Stockholm  59.334591   18.063240         4129\n",
       "1       Los Angeles 3 (CA)    Los Angeles  34.052235 -118.243683         2272\n",
       "2      Philadelphia 2 (PA)   Philadelphia  39.952583  -75.165222          137\n",
       "3          Portland 2 (OR)       Portland  45.523064 -122.676483         2325\n",
       "4    Frankfurt 3 (Germany)      Frankfurt  50.110924    8.682127         4068\n",
       "5   Dusseldorf 2 (Germany)     Dusseldorf  51.233334    6.783333         3961\n",
       "6          Warsaw (Poland)         Warsaw  52.237049   21.017532         4468\n",
       "7           Chicago 2 (IL)        Chicago  41.881832  -87.623177          571\n",
       "8     San Francisco 2 (CA)  San Francisco  37.773972 -122.431297         2413\n",
       "9    Thessaloniki (Greece)   Thessaloniki  40.629269   22.947412         4997\n",
       "10           London 5 (UK)         London  51.509865   -0.118092         3676"
      ]
     },
     "execution_count": 94,
     "metadata": {},
     "output_type": "execute_result"
    }
   ],
   "source": [
    "df_loc"
   ]
  },
  {
   "cell_type": "code",
   "execution_count": 95,
   "id": "cdbf685b",
   "metadata": {},
   "outputs": [],
   "source": [
    "df_merged = pd.merge(df, df_loc, how='inner', on='Location')"
   ]
  },
  {
   "cell_type": "code",
   "execution_count": 97,
   "id": "2546106b",
   "metadata": {},
   "outputs": [
    {
     "data": {
      "text/html": [
       "<div>\n",
       "<style scoped>\n",
       "    .dataframe tbody tr th:only-of-type {\n",
       "        vertical-align: middle;\n",
       "    }\n",
       "\n",
       "    .dataframe tbody tr th {\n",
       "        vertical-align: top;\n",
       "    }\n",
       "\n",
       "    .dataframe thead th {\n",
       "        text-align: right;\n",
       "    }\n",
       "</style>\n",
       "<table border=\"1\" class=\"dataframe\">\n",
       "  <thead>\n",
       "    <tr style=\"text-align: right;\">\n",
       "      <th></th>\n",
       "      <th>Status</th>\n",
       "      <th>Date and Time</th>\n",
       "      <th>Response Time (ms)</th>\n",
       "      <th>Error</th>\n",
       "      <th>Location</th>\n",
       "      <th>Location_short</th>\n",
       "      <th>lat</th>\n",
       "      <th>lon</th>\n",
       "      <th>distance_mi</th>\n",
       "    </tr>\n",
       "  </thead>\n",
       "  <tbody>\n",
       "    <tr>\n",
       "      <th>0</th>\n",
       "      <td>up</td>\n",
       "      <td>03/30/2022 01:52:33 PM</td>\n",
       "      <td>703 ms</td>\n",
       "      <td>OK</td>\n",
       "      <td>Stockholm 2 (Sweden)</td>\n",
       "      <td>Stockholm</td>\n",
       "      <td>59.334591</td>\n",
       "      <td>18.063240</td>\n",
       "      <td>4129</td>\n",
       "    </tr>\n",
       "    <tr>\n",
       "      <th>1</th>\n",
       "      <td>up</td>\n",
       "      <td>03/30/2022 01:42:33 PM</td>\n",
       "      <td>674 ms</td>\n",
       "      <td>OK</td>\n",
       "      <td>Stockholm 2 (Sweden)</td>\n",
       "      <td>Stockholm</td>\n",
       "      <td>59.334591</td>\n",
       "      <td>18.063240</td>\n",
       "      <td>4129</td>\n",
       "    </tr>\n",
       "    <tr>\n",
       "      <th>2</th>\n",
       "      <td>up</td>\n",
       "      <td>03/30/2022 01:32:33 PM</td>\n",
       "      <td>702 ms</td>\n",
       "      <td>OK</td>\n",
       "      <td>Stockholm 2 (Sweden)</td>\n",
       "      <td>Stockholm</td>\n",
       "      <td>59.334591</td>\n",
       "      <td>18.063240</td>\n",
       "      <td>4129</td>\n",
       "    </tr>\n",
       "    <tr>\n",
       "      <th>3</th>\n",
       "      <td>up</td>\n",
       "      <td>03/30/2022 01:22:33 PM</td>\n",
       "      <td>680 ms</td>\n",
       "      <td>OK</td>\n",
       "      <td>Stockholm 2 (Sweden)</td>\n",
       "      <td>Stockholm</td>\n",
       "      <td>59.334591</td>\n",
       "      <td>18.063240</td>\n",
       "      <td>4129</td>\n",
       "    </tr>\n",
       "    <tr>\n",
       "      <th>4</th>\n",
       "      <td>up</td>\n",
       "      <td>03/30/2022 01:12:33 PM</td>\n",
       "      <td>565 ms</td>\n",
       "      <td>OK</td>\n",
       "      <td>Stockholm 2 (Sweden)</td>\n",
       "      <td>Stockholm</td>\n",
       "      <td>59.334591</td>\n",
       "      <td>18.063240</td>\n",
       "      <td>4129</td>\n",
       "    </tr>\n",
       "    <tr>\n",
       "      <th>...</th>\n",
       "      <td>...</td>\n",
       "      <td>...</td>\n",
       "      <td>...</td>\n",
       "      <td>...</td>\n",
       "      <td>...</td>\n",
       "      <td>...</td>\n",
       "      <td>...</td>\n",
       "      <td>...</td>\n",
       "      <td>...</td>\n",
       "    </tr>\n",
       "    <tr>\n",
       "      <th>9995</th>\n",
       "      <td>up</td>\n",
       "      <td>03/23/2022 03:57:33 PM</td>\n",
       "      <td>558 ms</td>\n",
       "      <td>OK</td>\n",
       "      <td>London 5 (UK)</td>\n",
       "      <td>London</td>\n",
       "      <td>51.509865</td>\n",
       "      <td>-0.118092</td>\n",
       "      <td>3676</td>\n",
       "    </tr>\n",
       "    <tr>\n",
       "      <th>9996</th>\n",
       "      <td>up</td>\n",
       "      <td>03/23/2022 03:47:33 PM</td>\n",
       "      <td>558 ms</td>\n",
       "      <td>OK</td>\n",
       "      <td>London 5 (UK)</td>\n",
       "      <td>London</td>\n",
       "      <td>51.509865</td>\n",
       "      <td>-0.118092</td>\n",
       "      <td>3676</td>\n",
       "    </tr>\n",
       "    <tr>\n",
       "      <th>9997</th>\n",
       "      <td>up</td>\n",
       "      <td>03/23/2022 03:37:33 PM</td>\n",
       "      <td>462 ms</td>\n",
       "      <td>OK</td>\n",
       "      <td>London 5 (UK)</td>\n",
       "      <td>London</td>\n",
       "      <td>51.509865</td>\n",
       "      <td>-0.118092</td>\n",
       "      <td>3676</td>\n",
       "    </tr>\n",
       "    <tr>\n",
       "      <th>9998</th>\n",
       "      <td>up</td>\n",
       "      <td>03/23/2022 03:27:33 PM</td>\n",
       "      <td>427 ms</td>\n",
       "      <td>OK</td>\n",
       "      <td>London 5 (UK)</td>\n",
       "      <td>London</td>\n",
       "      <td>51.509865</td>\n",
       "      <td>-0.118092</td>\n",
       "      <td>3676</td>\n",
       "    </tr>\n",
       "    <tr>\n",
       "      <th>9999</th>\n",
       "      <td>up</td>\n",
       "      <td>03/23/2022 03:17:33 PM</td>\n",
       "      <td>467 ms</td>\n",
       "      <td>OK</td>\n",
       "      <td>London 5 (UK)</td>\n",
       "      <td>London</td>\n",
       "      <td>51.509865</td>\n",
       "      <td>-0.118092</td>\n",
       "      <td>3676</td>\n",
       "    </tr>\n",
       "  </tbody>\n",
       "</table>\n",
       "<p>10000 rows × 9 columns</p>\n",
       "</div>"
      ],
      "text/plain": [
       "     Status           Date and Time Response Time (ms) Error  \\\n",
       "0        up  03/30/2022 01:52:33 PM             703 ms    OK   \n",
       "1        up  03/30/2022 01:42:33 PM             674 ms    OK   \n",
       "2        up  03/30/2022 01:32:33 PM             702 ms    OK   \n",
       "3        up  03/30/2022 01:22:33 PM             680 ms    OK   \n",
       "4        up  03/30/2022 01:12:33 PM             565 ms    OK   \n",
       "...     ...                     ...                ...   ...   \n",
       "9995     up  03/23/2022 03:57:33 PM             558 ms    OK   \n",
       "9996     up  03/23/2022 03:47:33 PM             558 ms    OK   \n",
       "9997     up  03/23/2022 03:37:33 PM             462 ms    OK   \n",
       "9998     up  03/23/2022 03:27:33 PM             427 ms    OK   \n",
       "9999     up  03/23/2022 03:17:33 PM             467 ms    OK   \n",
       "\n",
       "                  Location Location_short        lat        lon  distance_mi  \n",
       "0     Stockholm 2 (Sweden)      Stockholm  59.334591  18.063240         4129  \n",
       "1     Stockholm 2 (Sweden)      Stockholm  59.334591  18.063240         4129  \n",
       "2     Stockholm 2 (Sweden)      Stockholm  59.334591  18.063240         4129  \n",
       "3     Stockholm 2 (Sweden)      Stockholm  59.334591  18.063240         4129  \n",
       "4     Stockholm 2 (Sweden)      Stockholm  59.334591  18.063240         4129  \n",
       "...                    ...            ...        ...        ...          ...  \n",
       "9995         London 5 (UK)         London  51.509865  -0.118092         3676  \n",
       "9996         London 5 (UK)         London  51.509865  -0.118092         3676  \n",
       "9997         London 5 (UK)         London  51.509865  -0.118092         3676  \n",
       "9998         London 5 (UK)         London  51.509865  -0.118092         3676  \n",
       "9999         London 5 (UK)         London  51.509865  -0.118092         3676  \n",
       "\n",
       "[10000 rows x 9 columns]"
      ]
     },
     "execution_count": 97,
     "metadata": {},
     "output_type": "execute_result"
    }
   ],
   "source": [
    "df_merged"
   ]
  },
  {
   "cell_type": "code",
   "execution_count": 118,
   "id": "eab0af58",
   "metadata": {},
   "outputs": [
    {
     "name": "stderr",
     "output_type": "stream",
     "text": [
      "/Users/emelz/opt/miniconda3/envs/XCS221/lib/python3.6/site-packages/ipykernel_launcher.py:5: SettingWithCopyWarning: \n",
      "A value is trying to be set on a copy of a slice from a DataFrame.\n",
      "Try using .loc[row_indexer,col_indexer] = value instead\n",
      "\n",
      "See the caveats in the documentation: https://pandas.pydata.org/pandas-docs/stable/user_guide/indexing.html#returning-a-view-versus-a-copy\n",
      "  \"\"\"\n"
     ]
    }
   ],
   "source": [
    "df_dist_latency = df_merged[['distance_mi', 'Response Time (ms)']]\n",
    "\n",
    "df_latency = df_dist_latency['Response Time (ms)'].apply(lambda x: int(x.replace(',', '').split(' ')[0]))\n",
    "\n",
    "df_dist_latency['latency'] = df_latency"
   ]
  },
  {
   "cell_type": "code",
   "execution_count": 119,
   "id": "cad764bd",
   "metadata": {},
   "outputs": [
    {
     "data": {
      "text/html": [
       "<div>\n",
       "<style scoped>\n",
       "    .dataframe tbody tr th:only-of-type {\n",
       "        vertical-align: middle;\n",
       "    }\n",
       "\n",
       "    .dataframe tbody tr th {\n",
       "        vertical-align: top;\n",
       "    }\n",
       "\n",
       "    .dataframe thead th {\n",
       "        text-align: right;\n",
       "    }\n",
       "</style>\n",
       "<table border=\"1\" class=\"dataframe\">\n",
       "  <thead>\n",
       "    <tr style=\"text-align: right;\">\n",
       "      <th></th>\n",
       "      <th>distance_mi</th>\n",
       "      <th>Response Time (ms)</th>\n",
       "      <th>latency</th>\n",
       "    </tr>\n",
       "  </thead>\n",
       "  <tbody>\n",
       "    <tr>\n",
       "      <th>0</th>\n",
       "      <td>4129</td>\n",
       "      <td>703 ms</td>\n",
       "      <td>703</td>\n",
       "    </tr>\n",
       "    <tr>\n",
       "      <th>1</th>\n",
       "      <td>4129</td>\n",
       "      <td>674 ms</td>\n",
       "      <td>674</td>\n",
       "    </tr>\n",
       "    <tr>\n",
       "      <th>2</th>\n",
       "      <td>4129</td>\n",
       "      <td>702 ms</td>\n",
       "      <td>702</td>\n",
       "    </tr>\n",
       "    <tr>\n",
       "      <th>3</th>\n",
       "      <td>4129</td>\n",
       "      <td>680 ms</td>\n",
       "      <td>680</td>\n",
       "    </tr>\n",
       "    <tr>\n",
       "      <th>4</th>\n",
       "      <td>4129</td>\n",
       "      <td>565 ms</td>\n",
       "      <td>565</td>\n",
       "    </tr>\n",
       "  </tbody>\n",
       "</table>\n",
       "</div>"
      ],
      "text/plain": [
       "   distance_mi Response Time (ms)  latency\n",
       "0         4129             703 ms      703\n",
       "1         4129             674 ms      674\n",
       "2         4129             702 ms      702\n",
       "3         4129             680 ms      680\n",
       "4         4129             565 ms      565"
      ]
     },
     "execution_count": 119,
     "metadata": {},
     "output_type": "execute_result"
    }
   ],
   "source": [
    "df_dist_latency.head()"
   ]
  },
  {
   "cell_type": "code",
   "execution_count": 121,
   "id": "a2447abe",
   "metadata": {},
   "outputs": [
    {
     "data": {
      "image/png": "[encoded data removed]",
      "text/plain": [
       "<Figure size 432x288 with 1 Axes>"
      ]
     },
     "metadata": {
      "needs_background": "light"
     },
     "output_type": "display_data"
    }
   ],
   "source": [
    "ax1 = df_dist_latency.plot.scatter(x='distance_mi', y='latency', c='DarkBlue')"
   ]
  },
  {
   "cell_type": "code",
   "execution_count": 127,
   "id": "9ecaa6f9",
   "metadata": {},
   "outputs": [
    {
     "data": {
      "text/html": [
       "<div>\n",
       "<style scoped>\n",
       "    .dataframe tbody tr th:only-of-type {\n",
       "        vertical-align: middle;\n",
       "    }\n",
       "\n",
       "    .dataframe tbody tr th {\n",
       "        vertical-align: top;\n",
       "    }\n",
       "\n",
       "    .dataframe thead th {\n",
       "        text-align: right;\n",
       "    }\n",
       "</style>\n",
       "<table border=\"1\" class=\"dataframe\">\n",
       "  <thead>\n",
       "    <tr style=\"text-align: right;\">\n",
       "      <th></th>\n",
       "      <th>distance_mi</th>\n",
       "      <th>Response Time (ms)</th>\n",
       "      <th>latency</th>\n",
       "    </tr>\n",
       "  </thead>\n",
       "  <tbody>\n",
       "    <tr>\n",
       "      <th>1227</th>\n",
       "      <td>2272</td>\n",
       "      <td>26,477 ms</td>\n",
       "      <td>26477</td>\n",
       "    </tr>\n",
       "  </tbody>\n",
       "</table>\n",
       "</div>"
      ],
      "text/plain": [
       "      distance_mi Response Time (ms)  latency\n",
       "1227         2272          26,477 ms    26477"
      ]
     },
     "execution_count": 127,
     "metadata": {},
     "output_type": "execute_result"
    }
   ],
   "source": [
    "df_dist_latency.loc[df_dist_latency['latency'] > 10000]"
   ]
  },
  {
   "cell_type": "code",
   "execution_count": 130,
   "id": "470070ad",
   "metadata": {},
   "outputs": [
    {
     "data": {
      "text/plain": [
       "(10000, 3)"
      ]
     },
     "execution_count": 130,
     "metadata": {},
     "output_type": "execute_result"
    }
   ],
   "source": [
    "df_dist_latency.shape"
   ]
  },
  {
   "cell_type": "code",
   "execution_count": 132,
   "id": "5846380c",
   "metadata": {},
   "outputs": [],
   "source": [
    "df_dist_latency2 = df_dist_latency.drop(df_dist_latency[df_dist_latency.latency > 10000].index)"
   ]
  },
  {
   "cell_type": "code",
   "execution_count": 133,
   "id": "18a089f5",
   "metadata": {},
   "outputs": [
    {
     "data": {
      "text/plain": [
       "(9999, 3)"
      ]
     },
     "execution_count": 133,
     "metadata": {},
     "output_type": "execute_result"
    }
   ],
   "source": [
    "df_dist_latency2.shape"
   ]
  },
  {
   "cell_type": "code",
   "execution_count": 136,
   "id": "aecbd37a",
   "metadata": {},
   "outputs": [
    {
     "data": {
      "image/png": "[encoded data removed]",
      "text/plain": [
       "<Figure size 1008x1008 with 1 Axes>"
      ]
     },
     "metadata": {
      "needs_background": "light"
     },
     "output_type": "display_data"
    }
   ],
   "source": [
    "ax2 = df_dist_latency2.plot.scatter(x='distance_mi', y='latency', c='DarkBlue', figsize = (14,14))"
   ]
  },
  {
   "cell_type": "code",
   "execution_count": 138,
   "id": "b368e4f3",
   "metadata": {},
   "outputs": [
    {
     "data": {
      "text/plain": [
       "72"
      ]
     },
     "execution_count": 138,
     "metadata": {},
     "output_type": "execute_result"
    }
   ],
   "source": [
    "df_dist_latency2.latency.min()"
   ]
  },
  {
   "cell_type": "code",
   "execution_count": null,
   "id": "f8e792e7",
   "metadata": {},
   "outputs": [],
   "source": []
  }
 ],
 "metadata": {
  "kernelspec": {
   "display_name": "XCS221",
   "language": "python",
   "name": "xcs221"
  },
  "language_info": {
   "codemirror_mode": {
    "name": "ipython",
    "version": 3
   },
   "file_extension": ".py",
   "mimetype": "text/x-python",
   "name": "python",
   "nbconvert_exporter": "python",
   "pygments_lexer": "ipython3",
   "version": "3.6.9"
  }
 },
 "nbformat": 4,
 "nbformat_minor": 5
}
