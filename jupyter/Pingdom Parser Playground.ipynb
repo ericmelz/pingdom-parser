{
 "cells": [
  {
   "cell_type": "code",
   "execution_count": 49,
   "id": "bead1160",
   "metadata": {},
   "outputs": [],
   "source": [
    "import pandas as pd\n",
    "import matplotlib.pyplot as plt"
   ]
  },
  {
   "cell_type": "code",
   "execution_count": 2,
   "id": "a4819668",
   "metadata": {},
   "outputs": [],
   "source": [
    "df = pd.read_csv('/Users/emelz/Documents/code/pingdom-parser/jupyter/data/report.csv')"
   ]
  },
  {
   "cell_type": "code",
   "execution_count": 3,
   "id": "af892fda",
   "metadata": {},
   "outputs": [
    {
     "data": {
      "text/html": [
       "<div>\n",
       "<style scoped>\n",
       "    .dataframe tbody tr th:only-of-type {\n",
       "        vertical-align: middle;\n",
       "    }\n",
       "\n",
       "    .dataframe tbody tr th {\n",
       "        vertical-align: top;\n",
       "    }\n",
       "\n",
       "    .dataframe thead th {\n",
       "        text-align: right;\n",
       "    }\n",
       "</style>\n",
       "<table border=\"1\" class=\"dataframe\">\n",
       "  <thead>\n",
       "    <tr style=\"text-align: right;\">\n",
       "      <th></th>\n",
       "      <th>Status</th>\n",
       "      <th>Date and Time</th>\n",
       "      <th>Response Time (ms)</th>\n",
       "      <th>Error</th>\n",
       "      <th>Location</th>\n",
       "    </tr>\n",
       "  </thead>\n",
       "  <tbody>\n",
       "    <tr>\n",
       "      <th>0</th>\n",
       "      <td>up</td>\n",
       "      <td>03/30/2022 01:52:33 PM</td>\n",
       "      <td>703 ms</td>\n",
       "      <td>OK</td>\n",
       "      <td>Stockholm 2 (Sweden)</td>\n",
       "    </tr>\n",
       "    <tr>\n",
       "      <th>1</th>\n",
       "      <td>up</td>\n",
       "      <td>03/30/2022 01:51:33 PM</td>\n",
       "      <td>402 ms</td>\n",
       "      <td>OK</td>\n",
       "      <td>Los Angeles 3 (CA)</td>\n",
       "    </tr>\n",
       "    <tr>\n",
       "      <th>2</th>\n",
       "      <td>up</td>\n",
       "      <td>03/30/2022 01:50:33 PM</td>\n",
       "      <td>259 ms</td>\n",
       "      <td>OK</td>\n",
       "      <td>Philadelphia 2 (PA)</td>\n",
       "    </tr>\n",
       "    <tr>\n",
       "      <th>3</th>\n",
       "      <td>up</td>\n",
       "      <td>03/30/2022 01:49:33 PM</td>\n",
       "      <td>473 ms</td>\n",
       "      <td>OK</td>\n",
       "      <td>Portland 2 (OR)</td>\n",
       "    </tr>\n",
       "    <tr>\n",
       "      <th>4</th>\n",
       "      <td>up</td>\n",
       "      <td>03/30/2022 01:48:33 PM</td>\n",
       "      <td>523 ms</td>\n",
       "      <td>OK</td>\n",
       "      <td>Frankfurt 3 (Germany)</td>\n",
       "    </tr>\n",
       "  </tbody>\n",
       "</table>\n",
       "</div>"
      ],
      "text/plain": [
       "  Status           Date and Time Response Time (ms) Error  \\\n",
       "0     up  03/30/2022 01:52:33 PM             703 ms    OK   \n",
       "1     up  03/30/2022 01:51:33 PM             402 ms    OK   \n",
       "2     up  03/30/2022 01:50:33 PM             259 ms    OK   \n",
       "3     up  03/30/2022 01:49:33 PM             473 ms    OK   \n",
       "4     up  03/30/2022 01:48:33 PM             523 ms    OK   \n",
       "\n",
       "                Location  \n",
       "0   Stockholm 2 (Sweden)  \n",
       "1     Los Angeles 3 (CA)  \n",
       "2    Philadelphia 2 (PA)  \n",
       "3        Portland 2 (OR)  \n",
       "4  Frankfurt 3 (Germany)  "
      ]
     },
     "execution_count": 3,
     "metadata": {},
     "output_type": "execute_result"
    }
   ],
   "source": [
    "df.head()"
   ]
  },
  {
   "cell_type": "code",
   "execution_count": 4,
   "id": "d2a7c8af",
   "metadata": {},
   "outputs": [
    {
     "data": {
      "text/plain": [
       "11"
      ]
     },
     "execution_count": 4,
     "metadata": {},
     "output_type": "execute_result"
    }
   ],
   "source": [
    "locations = df.Location.unique()\n",
    "locations.size"
   ]
  },
  {
   "cell_type": "code",
   "execution_count": 5,
   "id": "b5ebef8c",
   "metadata": {},
   "outputs": [
    {
     "data": {
      "text/plain": [
       "array(['Stockholm 2 (Sweden)', 'Los Angeles 3 (CA)',\n",
       "       'Philadelphia 2 (PA)', 'Portland 2 (OR)', 'Frankfurt 3 (Germany)',\n",
       "       'Dusseldorf 2 (Germany)', 'Warsaw (Poland)', 'Chicago 2 (IL)',\n",
       "       'San Francisco 2 (CA)', 'Thessaloniki (Greece)', 'London 5 (UK)'],\n",
       "      dtype=object)"
      ]
     },
     "execution_count": 5,
     "metadata": {},
     "output_type": "execute_result"
    }
   ],
   "source": [
    "locations"
   ]
  },
  {
   "cell_type": "code",
   "execution_count": 6,
   "id": "6d19de9a",
   "metadata": {},
   "outputs": [],
   "source": [
    "# From https://janakiev.com/blog/gps-points-distance-python/\n",
    "import math\n",
    "\n",
    "def haversine(coord1, coord2):\n",
    "    #R = 6372800  # Earth radius in meters\n",
    "    R = 3958.756  # Earth radius miles\n",
    "    lat1, lon1 = coord1\n",
    "    lat2, lon2 = coord2\n",
    "    \n",
    "    phi1, phi2 = math.radians(lat1), math.radians(lat2) \n",
    "    dphi       = math.radians(lat2 - lat1)\n",
    "    dlambda    = math.radians(lon2 - lon1)\n",
    "    \n",
    "    a = math.sin(dphi/2)**2 + \\\n",
    "        math.cos(phi1)*math.cos(phi2)*math.sin(dlambda/2)**2\n",
    "    \n",
    "    return int(2*R*math.atan2(math.sqrt(a), math.sqrt(1 - a)))"
   ]
  },
  {
   "cell_type": "code",
   "execution_count": 7,
   "id": "13ca8a4c",
   "metadata": {},
   "outputs": [],
   "source": [
    "stockholm_lat = 59.334591\n",
    "stockholm_lon = 18.063240\n",
    "stockholm_coords = stockholm_lat, stockholm_lon\n",
    "\n",
    "la_lat = 34.052235\n",
    "la_lon = -118.243683\n",
    "la_coords = la_lat, la_lon\n",
    "\n",
    "phil_lat = 39.952583\n",
    "phil_lon = -75.165222\n",
    "phil_coords = phil_lat, phil_lon\n",
    "\n",
    "portland_lat = 45.523064\n",
    "portland_lon = -122.676483\n",
    "portland_coords = portland_lat, portland_lon\n",
    "\n",
    "frankfurt_lat = 50.110924\n",
    "frankfurt_lon = 8.682127\n",
    "frankfurt_coords = frankfurt_lat, frankfurt_lon\n",
    "\n",
    "dusseldorf_lat = 51.233334\n",
    "dusseldorf_lon = 6.783333\n",
    "dusseldorf_coords = dusseldorf_lat, dusseldorf_lon\n",
    "\n",
    "warsaw_lat = 52.237049\n",
    "warsaw_lon = 21.017532\n",
    "warsaw_coords = warsaw_lat, warsaw_lon\n",
    "\n",
    "chicago_lat = 41.881832\n",
    "chicago_lon = -87.623177\n",
    "chicago_coords = chicago_lat, chicago_lon\n",
    "\n",
    "sanfran_lat = 37.773972\n",
    "sanfran_lon = -122.431297\n",
    "sanfran_coords = sanfran_lat, sanfran_lon\n",
    "\n",
    "thessaloniki_lat = 40.629269\n",
    "thessaloniki_lon = 22.947412\n",
    "thessaloniki_coords = thessaloniki_lat, thessaloniki_lon\n",
    "\n",
    "london_lat = 51.509865\n",
    "london_lon = -0.118092\n",
    "london_coords = london_lat, london_lon\n",
    "\n",
    "va_lat = 39.006699\n",
    "va_lon = -77.429131\n",
    "va_coords = va_lat, va_lon\n",
    "\n",
    "\n",
    "data = [['Stockholm 2 (Sweden)', 'Stockholm', stockholm_lat, stockholm_lon, haversine(stockholm_coords, va_coords)],\n",
    "        ['Los Angeles 3 (CA)', 'Los Angeles', la_lat, la_lon, haversine(la_coords, va_coords)],\n",
    "        ['Philadelphia 2 (PA)', 'Philadelphia', phil_lat, phil_lon, haversine(phil_coords, va_coords)],\n",
    "        ['Portland 2 (OR)', 'Portland', portland_lat, portland_lon, haversine(portland_coords, va_coords)],\n",
    "        ['Frankfurt 3 (Germany)', 'Frankfurt', frankfurt_lat, frankfurt_lon, haversine(frankfurt_coords, va_coords)],\n",
    "        ['Dusseldorf 2 (Germany)', 'Dusseldorf', dusseldorf_lat, dusseldorf_lon, haversine(dusseldorf_coords, va_coords)],\n",
    "        ['Warsaw (Poland)', 'Warsaw', warsaw_lat, warsaw_lon, haversine(warsaw_coords, va_coords)],\n",
    "        ['Chicago 2 (IL)', 'Chicago', chicago_lat, chicago_lon, haversine(chicago_coords, va_coords)],\n",
    "        ['San Francisco 2 (CA)', 'San Francisco', sanfran_lat, sanfran_lon, haversine(sanfran_coords, va_coords)],\n",
    "        ['Thessaloniki (Greece)', 'Thessaloniki', thessaloniki_lat, thessaloniki_lon, haversine(thessaloniki_coords, va_coords)],\n",
    "        ['London 5 (UK)', 'London', london_lat, london_lon, haversine(london_coords, va_coords)]\n",
    "       ]"
   ]
  },
  {
   "cell_type": "code",
   "execution_count": 8,
   "id": "d7ed4af8",
   "metadata": {},
   "outputs": [],
   "source": [
    "df_loc = pd.DataFrame(data, columns = ['Location', 'Location_short', 'lat', 'lon', 'distance_mi'])"
   ]
  },
  {
   "cell_type": "code",
   "execution_count": 9,
   "id": "b07aaa2c",
   "metadata": {},
   "outputs": [
    {
     "data": {
      "text/html": [
       "<div>\n",
       "<style scoped>\n",
       "    .dataframe tbody tr th:only-of-type {\n",
       "        vertical-align: middle;\n",
       "    }\n",
       "\n",
       "    .dataframe tbody tr th {\n",
       "        vertical-align: top;\n",
       "    }\n",
       "\n",
       "    .dataframe thead th {\n",
       "        text-align: right;\n",
       "    }\n",
       "</style>\n",
       "<table border=\"1\" class=\"dataframe\">\n",
       "  <thead>\n",
       "    <tr style=\"text-align: right;\">\n",
       "      <th></th>\n",
       "      <th>Location</th>\n",
       "      <th>Location_short</th>\n",
       "      <th>lat</th>\n",
       "      <th>lon</th>\n",
       "      <th>distance_mi</th>\n",
       "    </tr>\n",
       "  </thead>\n",
       "  <tbody>\n",
       "    <tr>\n",
       "      <th>0</th>\n",
       "      <td>Stockholm 2 (Sweden)</td>\n",
       "      <td>Stockholm</td>\n",
       "      <td>59.334591</td>\n",
       "      <td>18.063240</td>\n",
       "      <td>4129</td>\n",
       "    </tr>\n",
       "    <tr>\n",
       "      <th>1</th>\n",
       "      <td>Los Angeles 3 (CA)</td>\n",
       "      <td>Los Angeles</td>\n",
       "      <td>34.052235</td>\n",
       "      <td>-118.243683</td>\n",
       "      <td>2272</td>\n",
       "    </tr>\n",
       "    <tr>\n",
       "      <th>2</th>\n",
       "      <td>Philadelphia 2 (PA)</td>\n",
       "      <td>Philadelphia</td>\n",
       "      <td>39.952583</td>\n",
       "      <td>-75.165222</td>\n",
       "      <td>137</td>\n",
       "    </tr>\n",
       "    <tr>\n",
       "      <th>3</th>\n",
       "      <td>Portland 2 (OR)</td>\n",
       "      <td>Portland</td>\n",
       "      <td>45.523064</td>\n",
       "      <td>-122.676483</td>\n",
       "      <td>2325</td>\n",
       "    </tr>\n",
       "    <tr>\n",
       "      <th>4</th>\n",
       "      <td>Frankfurt 3 (Germany)</td>\n",
       "      <td>Frankfurt</td>\n",
       "      <td>50.110924</td>\n",
       "      <td>8.682127</td>\n",
       "      <td>4068</td>\n",
       "    </tr>\n",
       "    <tr>\n",
       "      <th>5</th>\n",
       "      <td>Dusseldorf 2 (Germany)</td>\n",
       "      <td>Dusseldorf</td>\n",
       "      <td>51.233334</td>\n",
       "      <td>6.783333</td>\n",
       "      <td>3961</td>\n",
       "    </tr>\n",
       "    <tr>\n",
       "      <th>6</th>\n",
       "      <td>Warsaw (Poland)</td>\n",
       "      <td>Warsaw</td>\n",
       "      <td>52.237049</td>\n",
       "      <td>21.017532</td>\n",
       "      <td>4468</td>\n",
       "    </tr>\n",
       "    <tr>\n",
       "      <th>7</th>\n",
       "      <td>Chicago 2 (IL)</td>\n",
       "      <td>Chicago</td>\n",
       "      <td>41.881832</td>\n",
       "      <td>-87.623177</td>\n",
       "      <td>571</td>\n",
       "    </tr>\n",
       "    <tr>\n",
       "      <th>8</th>\n",
       "      <td>San Francisco 2 (CA)</td>\n",
       "      <td>San Francisco</td>\n",
       "      <td>37.773972</td>\n",
       "      <td>-122.431297</td>\n",
       "      <td>2413</td>\n",
       "    </tr>\n",
       "    <tr>\n",
       "      <th>9</th>\n",
       "      <td>Thessaloniki (Greece)</td>\n",
       "      <td>Thessaloniki</td>\n",
       "      <td>40.629269</td>\n",
       "      <td>22.947412</td>\n",
       "      <td>4997</td>\n",
       "    </tr>\n",
       "    <tr>\n",
       "      <th>10</th>\n",
       "      <td>London 5 (UK)</td>\n",
       "      <td>London</td>\n",
       "      <td>51.509865</td>\n",
       "      <td>-0.118092</td>\n",
       "      <td>3676</td>\n",
       "    </tr>\n",
       "  </tbody>\n",
       "</table>\n",
       "</div>"
      ],
      "text/plain": [
       "                  Location Location_short        lat         lon  distance_mi\n",
       "0     Stockholm 2 (Sweden)      Stockholm  59.334591   18.063240         4129\n",
       "1       Los Angeles 3 (CA)    Los Angeles  34.052235 -118.243683         2272\n",
       "2      Philadelphia 2 (PA)   Philadelphia  39.952583  -75.165222          137\n",
       "3          Portland 2 (OR)       Portland  45.523064 -122.676483         2325\n",
       "4    Frankfurt 3 (Germany)      Frankfurt  50.110924    8.682127         4068\n",
       "5   Dusseldorf 2 (Germany)     Dusseldorf  51.233334    6.783333         3961\n",
       "6          Warsaw (Poland)         Warsaw  52.237049   21.017532         4468\n",
       "7           Chicago 2 (IL)        Chicago  41.881832  -87.623177          571\n",
       "8     San Francisco 2 (CA)  San Francisco  37.773972 -122.431297         2413\n",
       "9    Thessaloniki (Greece)   Thessaloniki  40.629269   22.947412         4997\n",
       "10           London 5 (UK)         London  51.509865   -0.118092         3676"
      ]
     },
     "execution_count": 9,
     "metadata": {},
     "output_type": "execute_result"
    }
   ],
   "source": [
    "df_loc"
   ]
  },
  {
   "cell_type": "code",
   "execution_count": 10,
   "id": "cdbf685b",
   "metadata": {},
   "outputs": [],
   "source": [
    "df_merged = pd.merge(df, df_loc, how='inner', on='Location')"
   ]
  },
  {
   "cell_type": "code",
   "execution_count": 11,
   "id": "2546106b",
   "metadata": {},
   "outputs": [
    {
     "data": {
      "text/html": [
       "<div>\n",
       "<style scoped>\n",
       "    .dataframe tbody tr th:only-of-type {\n",
       "        vertical-align: middle;\n",
       "    }\n",
       "\n",
       "    .dataframe tbody tr th {\n",
       "        vertical-align: top;\n",
       "    }\n",
       "\n",
       "    .dataframe thead th {\n",
       "        text-align: right;\n",
       "    }\n",
       "</style>\n",
       "<table border=\"1\" class=\"dataframe\">\n",
       "  <thead>\n",
       "    <tr style=\"text-align: right;\">\n",
       "      <th></th>\n",
       "      <th>Status</th>\n",
       "      <th>Date and Time</th>\n",
       "      <th>Response Time (ms)</th>\n",
       "      <th>Error</th>\n",
       "      <th>Location</th>\n",
       "      <th>Location_short</th>\n",
       "      <th>lat</th>\n",
       "      <th>lon</th>\n",
       "      <th>distance_mi</th>\n",
       "    </tr>\n",
       "  </thead>\n",
       "  <tbody>\n",
       "    <tr>\n",
       "      <th>0</th>\n",
       "      <td>up</td>\n",
       "      <td>03/30/2022 01:52:33 PM</td>\n",
       "      <td>703 ms</td>\n",
       "      <td>OK</td>\n",
       "      <td>Stockholm 2 (Sweden)</td>\n",
       "      <td>Stockholm</td>\n",
       "      <td>59.334591</td>\n",
       "      <td>18.063240</td>\n",
       "      <td>4129</td>\n",
       "    </tr>\n",
       "    <tr>\n",
       "      <th>1</th>\n",
       "      <td>up</td>\n",
       "      <td>03/30/2022 01:42:33 PM</td>\n",
       "      <td>674 ms</td>\n",
       "      <td>OK</td>\n",
       "      <td>Stockholm 2 (Sweden)</td>\n",
       "      <td>Stockholm</td>\n",
       "      <td>59.334591</td>\n",
       "      <td>18.063240</td>\n",
       "      <td>4129</td>\n",
       "    </tr>\n",
       "    <tr>\n",
       "      <th>2</th>\n",
       "      <td>up</td>\n",
       "      <td>03/30/2022 01:32:33 PM</td>\n",
       "      <td>702 ms</td>\n",
       "      <td>OK</td>\n",
       "      <td>Stockholm 2 (Sweden)</td>\n",
       "      <td>Stockholm</td>\n",
       "      <td>59.334591</td>\n",
       "      <td>18.063240</td>\n",
       "      <td>4129</td>\n",
       "    </tr>\n",
       "    <tr>\n",
       "      <th>3</th>\n",
       "      <td>up</td>\n",
       "      <td>03/30/2022 01:22:33 PM</td>\n",
       "      <td>680 ms</td>\n",
       "      <td>OK</td>\n",
       "      <td>Stockholm 2 (Sweden)</td>\n",
       "      <td>Stockholm</td>\n",
       "      <td>59.334591</td>\n",
       "      <td>18.063240</td>\n",
       "      <td>4129</td>\n",
       "    </tr>\n",
       "    <tr>\n",
       "      <th>4</th>\n",
       "      <td>up</td>\n",
       "      <td>03/30/2022 01:12:33 PM</td>\n",
       "      <td>565 ms</td>\n",
       "      <td>OK</td>\n",
       "      <td>Stockholm 2 (Sweden)</td>\n",
       "      <td>Stockholm</td>\n",
       "      <td>59.334591</td>\n",
       "      <td>18.063240</td>\n",
       "      <td>4129</td>\n",
       "    </tr>\n",
       "    <tr>\n",
       "      <th>...</th>\n",
       "      <td>...</td>\n",
       "      <td>...</td>\n",
       "      <td>...</td>\n",
       "      <td>...</td>\n",
       "      <td>...</td>\n",
       "      <td>...</td>\n",
       "      <td>...</td>\n",
       "      <td>...</td>\n",
       "      <td>...</td>\n",
       "    </tr>\n",
       "    <tr>\n",
       "      <th>9995</th>\n",
       "      <td>up</td>\n",
       "      <td>03/23/2022 03:57:33 PM</td>\n",
       "      <td>558 ms</td>\n",
       "      <td>OK</td>\n",
       "      <td>London 5 (UK)</td>\n",
       "      <td>London</td>\n",
       "      <td>51.509865</td>\n",
       "      <td>-0.118092</td>\n",
       "      <td>3676</td>\n",
       "    </tr>\n",
       "    <tr>\n",
       "      <th>9996</th>\n",
       "      <td>up</td>\n",
       "      <td>03/23/2022 03:47:33 PM</td>\n",
       "      <td>558 ms</td>\n",
       "      <td>OK</td>\n",
       "      <td>London 5 (UK)</td>\n",
       "      <td>London</td>\n",
       "      <td>51.509865</td>\n",
       "      <td>-0.118092</td>\n",
       "      <td>3676</td>\n",
       "    </tr>\n",
       "    <tr>\n",
       "      <th>9997</th>\n",
       "      <td>up</td>\n",
       "      <td>03/23/2022 03:37:33 PM</td>\n",
       "      <td>462 ms</td>\n",
       "      <td>OK</td>\n",
       "      <td>London 5 (UK)</td>\n",
       "      <td>London</td>\n",
       "      <td>51.509865</td>\n",
       "      <td>-0.118092</td>\n",
       "      <td>3676</td>\n",
       "    </tr>\n",
       "    <tr>\n",
       "      <th>9998</th>\n",
       "      <td>up</td>\n",
       "      <td>03/23/2022 03:27:33 PM</td>\n",
       "      <td>427 ms</td>\n",
       "      <td>OK</td>\n",
       "      <td>London 5 (UK)</td>\n",
       "      <td>London</td>\n",
       "      <td>51.509865</td>\n",
       "      <td>-0.118092</td>\n",
       "      <td>3676</td>\n",
       "    </tr>\n",
       "    <tr>\n",
       "      <th>9999</th>\n",
       "      <td>up</td>\n",
       "      <td>03/23/2022 03:17:33 PM</td>\n",
       "      <td>467 ms</td>\n",
       "      <td>OK</td>\n",
       "      <td>London 5 (UK)</td>\n",
       "      <td>London</td>\n",
       "      <td>51.509865</td>\n",
       "      <td>-0.118092</td>\n",
       "      <td>3676</td>\n",
       "    </tr>\n",
       "  </tbody>\n",
       "</table>\n",
       "<p>10000 rows × 9 columns</p>\n",
       "</div>"
      ],
      "text/plain": [
       "     Status           Date and Time Response Time (ms) Error  \\\n",
       "0        up  03/30/2022 01:52:33 PM             703 ms    OK   \n",
       "1        up  03/30/2022 01:42:33 PM             674 ms    OK   \n",
       "2        up  03/30/2022 01:32:33 PM             702 ms    OK   \n",
       "3        up  03/30/2022 01:22:33 PM             680 ms    OK   \n",
       "4        up  03/30/2022 01:12:33 PM             565 ms    OK   \n",
       "...     ...                     ...                ...   ...   \n",
       "9995     up  03/23/2022 03:57:33 PM             558 ms    OK   \n",
       "9996     up  03/23/2022 03:47:33 PM             558 ms    OK   \n",
       "9997     up  03/23/2022 03:37:33 PM             462 ms    OK   \n",
       "9998     up  03/23/2022 03:27:33 PM             427 ms    OK   \n",
       "9999     up  03/23/2022 03:17:33 PM             467 ms    OK   \n",
       "\n",
       "                  Location Location_short        lat        lon  distance_mi  \n",
       "0     Stockholm 2 (Sweden)      Stockholm  59.334591  18.063240         4129  \n",
       "1     Stockholm 2 (Sweden)      Stockholm  59.334591  18.063240         4129  \n",
       "2     Stockholm 2 (Sweden)      Stockholm  59.334591  18.063240         4129  \n",
       "3     Stockholm 2 (Sweden)      Stockholm  59.334591  18.063240         4129  \n",
       "4     Stockholm 2 (Sweden)      Stockholm  59.334591  18.063240         4129  \n",
       "...                    ...            ...        ...        ...          ...  \n",
       "9995         London 5 (UK)         London  51.509865  -0.118092         3676  \n",
       "9996         London 5 (UK)         London  51.509865  -0.118092         3676  \n",
       "9997         London 5 (UK)         London  51.509865  -0.118092         3676  \n",
       "9998         London 5 (UK)         London  51.509865  -0.118092         3676  \n",
       "9999         London 5 (UK)         London  51.509865  -0.118092         3676  \n",
       "\n",
       "[10000 rows x 9 columns]"
      ]
     },
     "execution_count": 11,
     "metadata": {},
     "output_type": "execute_result"
    }
   ],
   "source": [
    "df_merged"
   ]
  },
  {
   "cell_type": "code",
   "execution_count": 12,
   "id": "eab0af58",
   "metadata": {},
   "outputs": [
    {
     "name": "stderr",
     "output_type": "stream",
     "text": [
      "/Users/emelz/opt/miniconda3/envs/XCS221/lib/python3.6/site-packages/ipykernel_launcher.py:5: SettingWithCopyWarning: \n",
      "A value is trying to be set on a copy of a slice from a DataFrame.\n",
      "Try using .loc[row_indexer,col_indexer] = value instead\n",
      "\n",
      "See the caveats in the documentation: https://pandas.pydata.org/pandas-docs/stable/user_guide/indexing.html#returning-a-view-versus-a-copy\n",
      "  \"\"\"\n"
     ]
    }
   ],
   "source": [
    "df_dist_latency = df_merged[['distance_mi', 'Response Time (ms)']]\n",
    "\n",
    "df_latency = df_dist_latency['Response Time (ms)'].apply(lambda x: int(x.replace(',', '').split(' ')[0]))\n",
    "\n",
    "df_dist_latency['latency'] = df_latency"
   ]
  },
  {
   "cell_type": "code",
   "execution_count": 13,
   "id": "cad764bd",
   "metadata": {},
   "outputs": [
    {
     "data": {
      "text/html": [
       "<div>\n",
       "<style scoped>\n",
       "    .dataframe tbody tr th:only-of-type {\n",
       "        vertical-align: middle;\n",
       "    }\n",
       "\n",
       "    .dataframe tbody tr th {\n",
       "        vertical-align: top;\n",
       "    }\n",
       "\n",
       "    .dataframe thead th {\n",
       "        text-align: right;\n",
       "    }\n",
       "</style>\n",
       "<table border=\"1\" class=\"dataframe\">\n",
       "  <thead>\n",
       "    <tr style=\"text-align: right;\">\n",
       "      <th></th>\n",
       "      <th>distance_mi</th>\n",
       "      <th>Response Time (ms)</th>\n",
       "      <th>latency</th>\n",
       "    </tr>\n",
       "  </thead>\n",
       "  <tbody>\n",
       "    <tr>\n",
       "      <th>0</th>\n",
       "      <td>4129</td>\n",
       "      <td>703 ms</td>\n",
       "      <td>703</td>\n",
       "    </tr>\n",
       "    <tr>\n",
       "      <th>1</th>\n",
       "      <td>4129</td>\n",
       "      <td>674 ms</td>\n",
       "      <td>674</td>\n",
       "    </tr>\n",
       "    <tr>\n",
       "      <th>2</th>\n",
       "      <td>4129</td>\n",
       "      <td>702 ms</td>\n",
       "      <td>702</td>\n",
       "    </tr>\n",
       "    <tr>\n",
       "      <th>3</th>\n",
       "      <td>4129</td>\n",
       "      <td>680 ms</td>\n",
       "      <td>680</td>\n",
       "    </tr>\n",
       "    <tr>\n",
       "      <th>4</th>\n",
       "      <td>4129</td>\n",
       "      <td>565 ms</td>\n",
       "      <td>565</td>\n",
       "    </tr>\n",
       "  </tbody>\n",
       "</table>\n",
       "</div>"
      ],
      "text/plain": [
       "   distance_mi Response Time (ms)  latency\n",
       "0         4129             703 ms      703\n",
       "1         4129             674 ms      674\n",
       "2         4129             702 ms      702\n",
       "3         4129             680 ms      680\n",
       "4         4129             565 ms      565"
      ]
     },
     "execution_count": 13,
     "metadata": {},
     "output_type": "execute_result"
    }
   ],
   "source": [
    "df_dist_latency.head()"
   ]
  },
  {
   "cell_type": "code",
   "execution_count": 14,
   "id": "a2447abe",
   "metadata": {},
   "outputs": [
    {
     "data": {
      "image/png": "[encoded data removed]",
      "text/plain": [
       "<Figure size 432x288 with 1 Axes>"
      ]
     },
     "metadata": {
      "needs_background": "light"
     },
     "output_type": "display_data"
    }
   ],
   "source": [
    "ax1 = df_dist_latency.plot.scatter(x='distance_mi', y='latency', c='DarkBlue')"
   ]
  },
  {
   "cell_type": "code",
   "execution_count": 15,
   "id": "9ecaa6f9",
   "metadata": {},
   "outputs": [
    {
     "data": {
      "text/html": [
       "<div>\n",
       "<style scoped>\n",
       "    .dataframe tbody tr th:only-of-type {\n",
       "        vertical-align: middle;\n",
       "    }\n",
       "\n",
       "    .dataframe tbody tr th {\n",
       "        vertical-align: top;\n",
       "    }\n",
       "\n",
       "    .dataframe thead th {\n",
       "        text-align: right;\n",
       "    }\n",
       "</style>\n",
       "<table border=\"1\" class=\"dataframe\">\n",
       "  <thead>\n",
       "    <tr style=\"text-align: right;\">\n",
       "      <th></th>\n",
       "      <th>distance_mi</th>\n",
       "      <th>Response Time (ms)</th>\n",
       "      <th>latency</th>\n",
       "    </tr>\n",
       "  </thead>\n",
       "  <tbody>\n",
       "    <tr>\n",
       "      <th>1227</th>\n",
       "      <td>2272</td>\n",
       "      <td>26,477 ms</td>\n",
       "      <td>26477</td>\n",
       "    </tr>\n",
       "  </tbody>\n",
       "</table>\n",
       "</div>"
      ],
      "text/plain": [
       "      distance_mi Response Time (ms)  latency\n",
       "1227         2272          26,477 ms    26477"
      ]
     },
     "execution_count": 15,
     "metadata": {},
     "output_type": "execute_result"
    }
   ],
   "source": [
    "df_dist_latency.loc[df_dist_latency['latency'] > 10000]"
   ]
  },
  {
   "cell_type": "code",
   "execution_count": 16,
   "id": "470070ad",
   "metadata": {},
   "outputs": [
    {
     "data": {
      "text/plain": [
       "(10000, 3)"
      ]
     },
     "execution_count": 16,
     "metadata": {},
     "output_type": "execute_result"
    }
   ],
   "source": [
    "df_dist_latency.shape"
   ]
  },
  {
   "cell_type": "code",
   "execution_count": 17,
   "id": "5846380c",
   "metadata": {},
   "outputs": [],
   "source": [
    "df_dist_latency2 = df_dist_latency.drop(df_dist_latency[df_dist_latency.latency > 10000].index)"
   ]
  },
  {
   "cell_type": "code",
   "execution_count": 18,
   "id": "18a089f5",
   "metadata": {},
   "outputs": [
    {
     "data": {
      "text/plain": [
       "(9999, 3)"
      ]
     },
     "execution_count": 18,
     "metadata": {},
     "output_type": "execute_result"
    }
   ],
   "source": [
    "df_dist_latency2.shape"
   ]
  },
  {
   "cell_type": "code",
   "execution_count": 19,
   "id": "aecbd37a",
   "metadata": {},
   "outputs": [
    {
     "data": {
      "image/png": "[encoded data removed]",
      "text/plain": [
       "<Figure size 1008x1008 with 1 Axes>"
      ]
     },
     "metadata": {
      "needs_background": "light"
     },
     "output_type": "display_data"
    }
   ],
   "source": [
    "ax2 = df_dist_latency2.plot.scatter(x='distance_mi', y='latency', c='DarkBlue', figsize = (14,14))"
   ]
  },
  {
   "cell_type": "code",
   "execution_count": 20,
   "id": "b368e4f3",
   "metadata": {},
   "outputs": [
    {
     "data": {
      "text/plain": [
       "72"
      ]
     },
     "execution_count": 20,
     "metadata": {},
     "output_type": "execute_result"
    }
   ],
   "source": [
    "df_dist_latency2.latency.min()"
   ]
  },
  {
   "cell_type": "code",
   "execution_count": 21,
   "id": "f8e792e7",
   "metadata": {},
   "outputs": [
    {
     "data": {
      "text/html": [
       "<div>\n",
       "<style scoped>\n",
       "    .dataframe tbody tr th:only-of-type {\n",
       "        vertical-align: middle;\n",
       "    }\n",
       "\n",
       "    .dataframe tbody tr th {\n",
       "        vertical-align: top;\n",
       "    }\n",
       "\n",
       "    .dataframe thead th {\n",
       "        text-align: right;\n",
       "    }\n",
       "</style>\n",
       "<table border=\"1\" class=\"dataframe\">\n",
       "  <thead>\n",
       "    <tr style=\"text-align: right;\">\n",
       "      <th></th>\n",
       "      <th>distance_mi</th>\n",
       "      <th>Response Time (ms)</th>\n",
       "      <th>latency</th>\n",
       "    </tr>\n",
       "  </thead>\n",
       "  <tbody>\n",
       "    <tr>\n",
       "      <th>0</th>\n",
       "      <td>4129</td>\n",
       "      <td>703 ms</td>\n",
       "      <td>703</td>\n",
       "    </tr>\n",
       "    <tr>\n",
       "      <th>1</th>\n",
       "      <td>4129</td>\n",
       "      <td>674 ms</td>\n",
       "      <td>674</td>\n",
       "    </tr>\n",
       "    <tr>\n",
       "      <th>2</th>\n",
       "      <td>4129</td>\n",
       "      <td>702 ms</td>\n",
       "      <td>702</td>\n",
       "    </tr>\n",
       "    <tr>\n",
       "      <th>3</th>\n",
       "      <td>4129</td>\n",
       "      <td>680 ms</td>\n",
       "      <td>680</td>\n",
       "    </tr>\n",
       "    <tr>\n",
       "      <th>4</th>\n",
       "      <td>4129</td>\n",
       "      <td>565 ms</td>\n",
       "      <td>565</td>\n",
       "    </tr>\n",
       "  </tbody>\n",
       "</table>\n",
       "</div>"
      ],
      "text/plain": [
       "   distance_mi Response Time (ms)  latency\n",
       "0         4129             703 ms      703\n",
       "1         4129             674 ms      674\n",
       "2         4129             702 ms      702\n",
       "3         4129             680 ms      680\n",
       "4         4129             565 ms      565"
      ]
     },
     "execution_count": 21,
     "metadata": {},
     "output_type": "execute_result"
    }
   ],
   "source": [
    "df_dist_latency2.head()"
   ]
  },
  {
   "cell_type": "code",
   "execution_count": 26,
   "id": "a7e827ee",
   "metadata": {},
   "outputs": [
    {
     "data": {
      "text/plain": [
       "137"
      ]
     },
     "execution_count": 26,
     "metadata": {},
     "output_type": "execute_result"
    }
   ],
   "source": [
    "df_dist_latency2['distance_mi'].min()"
   ]
  },
  {
   "cell_type": "code",
   "execution_count": 32,
   "id": "f3fbb054",
   "metadata": {},
   "outputs": [],
   "source": [
    "df_philadelphia = df_dist_latency2[df_dist_latency2['distance_mi'] == 137]"
   ]
  },
  {
   "cell_type": "code",
   "execution_count": 33,
   "id": "486b9ada",
   "metadata": {},
   "outputs": [
    {
     "data": {
      "text/html": [
       "<div>\n",
       "<style scoped>\n",
       "    .dataframe tbody tr th:only-of-type {\n",
       "        vertical-align: middle;\n",
       "    }\n",
       "\n",
       "    .dataframe tbody tr th {\n",
       "        vertical-align: top;\n",
       "    }\n",
       "\n",
       "    .dataframe thead th {\n",
       "        text-align: right;\n",
       "    }\n",
       "</style>\n",
       "<table border=\"1\" class=\"dataframe\">\n",
       "  <thead>\n",
       "    <tr style=\"text-align: right;\">\n",
       "      <th></th>\n",
       "      <th>distance_mi</th>\n",
       "      <th>Response Time (ms)</th>\n",
       "      <th>latency</th>\n",
       "    </tr>\n",
       "  </thead>\n",
       "  <tbody>\n",
       "    <tr>\n",
       "      <th>2000</th>\n",
       "      <td>137</td>\n",
       "      <td>259 ms</td>\n",
       "      <td>259</td>\n",
       "    </tr>\n",
       "    <tr>\n",
       "      <th>2001</th>\n",
       "      <td>137</td>\n",
       "      <td>290 ms</td>\n",
       "      <td>290</td>\n",
       "    </tr>\n",
       "    <tr>\n",
       "      <th>2002</th>\n",
       "      <td>137</td>\n",
       "      <td>211 ms</td>\n",
       "      <td>211</td>\n",
       "    </tr>\n",
       "    <tr>\n",
       "      <th>2003</th>\n",
       "      <td>137</td>\n",
       "      <td>173 ms</td>\n",
       "      <td>173</td>\n",
       "    </tr>\n",
       "    <tr>\n",
       "      <th>2004</th>\n",
       "      <td>137</td>\n",
       "      <td>240 ms</td>\n",
       "      <td>240</td>\n",
       "    </tr>\n",
       "  </tbody>\n",
       "</table>\n",
       "</div>"
      ],
      "text/plain": [
       "      distance_mi Response Time (ms)  latency\n",
       "2000          137             259 ms      259\n",
       "2001          137             290 ms      290\n",
       "2002          137             211 ms      211\n",
       "2003          137             173 ms      173\n",
       "2004          137             240 ms      240"
      ]
     },
     "execution_count": 33,
     "metadata": {},
     "output_type": "execute_result"
    }
   ],
   "source": [
    "df_philadelphia.head()"
   ]
  },
  {
   "cell_type": "code",
   "execution_count": 36,
   "id": "42ae1e88",
   "metadata": {},
   "outputs": [
    {
     "data": {
      "text/plain": [
       "174.75"
      ]
     },
     "execution_count": 36,
     "metadata": {},
     "output_type": "execute_result"
    }
   ],
   "source": [
    "df_philadelphia['latency'].quantile(.25)"
   ]
  },
  {
   "cell_type": "code",
   "execution_count": 37,
   "id": "4d719f4e",
   "metadata": {},
   "outputs": [
    {
     "data": {
      "text/plain": [
       "221.5"
      ]
     },
     "execution_count": 37,
     "metadata": {},
     "output_type": "execute_result"
    }
   ],
   "source": [
    "df_philadelphia['latency'].quantile(.5)"
   ]
  },
  {
   "cell_type": "code",
   "execution_count": 38,
   "id": "991ebeb4",
   "metadata": {},
   "outputs": [
    {
     "data": {
      "text/plain": [
       "261.0"
      ]
     },
     "execution_count": 38,
     "metadata": {},
     "output_type": "execute_result"
    }
   ],
   "source": [
    "df_philadelphia['latency'].quantile(.75)"
   ]
  },
  {
   "cell_type": "code",
   "execution_count": 39,
   "id": "f6019666",
   "metadata": {},
   "outputs": [
    {
     "data": {
      "text/plain": [
       "285.0"
      ]
     },
     "execution_count": 39,
     "metadata": {},
     "output_type": "execute_result"
    }
   ],
   "source": [
    "df_philadelphia['latency'].quantile(.9)"
   ]
  },
  {
   "cell_type": "code",
   "execution_count": 40,
   "id": "058fc450",
   "metadata": {},
   "outputs": [
    {
     "data": {
      "text/plain": [
       "302.04999999999995"
      ]
     },
     "execution_count": 40,
     "metadata": {},
     "output_type": "execute_result"
    }
   ],
   "source": [
    "df_philadelphia['latency'].quantile(.95)"
   ]
  },
  {
   "cell_type": "code",
   "execution_count": 41,
   "id": "2e682125",
   "metadata": {},
   "outputs": [
    {
     "data": {
      "text/plain": [
       "335.03"
      ]
     },
     "execution_count": 41,
     "metadata": {},
     "output_type": "execute_result"
    }
   ],
   "source": [
    "df_philadelphia['latency'].quantile(.99)"
   ]
  },
  {
   "cell_type": "code",
   "execution_count": 42,
   "id": "ae790909",
   "metadata": {},
   "outputs": [
    {
     "data": {
      "text/plain": [
       "72"
      ]
     },
     "execution_count": 42,
     "metadata": {},
     "output_type": "execute_result"
    }
   ],
   "source": [
    "df_philadelphia['latency'].min()"
   ]
  },
  {
   "cell_type": "code",
   "execution_count": 43,
   "id": "e858699f",
   "metadata": {},
   "outputs": [
    {
     "data": {
      "text/plain": [
       "589"
      ]
     },
     "execution_count": 43,
     "metadata": {},
     "output_type": "execute_result"
    }
   ],
   "source": [
    "df_philadelphia['latency'].max()"
   ]
  },
  {
   "cell_type": "code",
   "execution_count": 44,
   "id": "a6e3ff3c",
   "metadata": {},
   "outputs": [
    {
     "data": {
      "text/plain": [
       "216.116"
      ]
     },
     "execution_count": 44,
     "metadata": {},
     "output_type": "execute_result"
    }
   ],
   "source": [
    "df_philadelphia['latency'].mean()"
   ]
  },
  {
   "cell_type": "code",
   "execution_count": 51,
   "id": "b8208bf5",
   "metadata": {},
   "outputs": [
    {
     "data": {
      "text/plain": [
       "(0.0, 700.0)"
      ]
     },
     "execution_count": 51,
     "metadata": {},
     "output_type": "execute_result"
    },
    {
     "data": {
      "image/png": "[encoded data removed]",
      "text/plain": [
       "<Figure size 1152x576 with 1 Axes>"
      ]
     },
     "metadata": {
      "needs_background": "light"
     },
     "output_type": "display_data"
    }
   ],
   "source": [
    "boxplot = df_philadelphia.boxplot(column=['latency'], figsize=(16,8))\n",
    "plt.ylim(0,700)"
   ]
  },
  {
   "cell_type": "code",
   "execution_count": 54,
   "id": "8bc89678",
   "metadata": {},
   "outputs": [
    {
     "data": {
      "text/plain": [
       "array([4129, 2272,  137, 2325, 4068, 3961, 4468,  571, 2413, 4997, 3676])"
      ]
     },
     "execution_count": 54,
     "metadata": {},
     "output_type": "execute_result"
    }
   ],
   "source": [
    "df_dist_latency2['distance_mi'].unique()"
   ]
  },
  {
   "cell_type": "code",
   "execution_count": 55,
   "id": "fb543914",
   "metadata": {},
   "outputs": [
    {
     "data": {
      "text/html": [
       "<div>\n",
       "<style scoped>\n",
       "    .dataframe tbody tr th:only-of-type {\n",
       "        vertical-align: middle;\n",
       "    }\n",
       "\n",
       "    .dataframe tbody tr th {\n",
       "        vertical-align: top;\n",
       "    }\n",
       "\n",
       "    .dataframe thead th {\n",
       "        text-align: right;\n",
       "    }\n",
       "</style>\n",
       "<table border=\"1\" class=\"dataframe\">\n",
       "  <thead>\n",
       "    <tr style=\"text-align: right;\">\n",
       "      <th></th>\n",
       "      <th>Location</th>\n",
       "      <th>Location_short</th>\n",
       "      <th>lat</th>\n",
       "      <th>lon</th>\n",
       "      <th>distance_mi</th>\n",
       "    </tr>\n",
       "  </thead>\n",
       "  <tbody>\n",
       "    <tr>\n",
       "      <th>0</th>\n",
       "      <td>Stockholm 2 (Sweden)</td>\n",
       "      <td>Stockholm</td>\n",
       "      <td>59.334591</td>\n",
       "      <td>18.063240</td>\n",
       "      <td>4129</td>\n",
       "    </tr>\n",
       "    <tr>\n",
       "      <th>1</th>\n",
       "      <td>Los Angeles 3 (CA)</td>\n",
       "      <td>Los Angeles</td>\n",
       "      <td>34.052235</td>\n",
       "      <td>-118.243683</td>\n",
       "      <td>2272</td>\n",
       "    </tr>\n",
       "    <tr>\n",
       "      <th>2</th>\n",
       "      <td>Philadelphia 2 (PA)</td>\n",
       "      <td>Philadelphia</td>\n",
       "      <td>39.952583</td>\n",
       "      <td>-75.165222</td>\n",
       "      <td>137</td>\n",
       "    </tr>\n",
       "    <tr>\n",
       "      <th>3</th>\n",
       "      <td>Portland 2 (OR)</td>\n",
       "      <td>Portland</td>\n",
       "      <td>45.523064</td>\n",
       "      <td>-122.676483</td>\n",
       "      <td>2325</td>\n",
       "    </tr>\n",
       "    <tr>\n",
       "      <th>4</th>\n",
       "      <td>Frankfurt 3 (Germany)</td>\n",
       "      <td>Frankfurt</td>\n",
       "      <td>50.110924</td>\n",
       "      <td>8.682127</td>\n",
       "      <td>4068</td>\n",
       "    </tr>\n",
       "    <tr>\n",
       "      <th>5</th>\n",
       "      <td>Dusseldorf 2 (Germany)</td>\n",
       "      <td>Dusseldorf</td>\n",
       "      <td>51.233334</td>\n",
       "      <td>6.783333</td>\n",
       "      <td>3961</td>\n",
       "    </tr>\n",
       "    <tr>\n",
       "      <th>6</th>\n",
       "      <td>Warsaw (Poland)</td>\n",
       "      <td>Warsaw</td>\n",
       "      <td>52.237049</td>\n",
       "      <td>21.017532</td>\n",
       "      <td>4468</td>\n",
       "    </tr>\n",
       "    <tr>\n",
       "      <th>7</th>\n",
       "      <td>Chicago 2 (IL)</td>\n",
       "      <td>Chicago</td>\n",
       "      <td>41.881832</td>\n",
       "      <td>-87.623177</td>\n",
       "      <td>571</td>\n",
       "    </tr>\n",
       "    <tr>\n",
       "      <th>8</th>\n",
       "      <td>San Francisco 2 (CA)</td>\n",
       "      <td>San Francisco</td>\n",
       "      <td>37.773972</td>\n",
       "      <td>-122.431297</td>\n",
       "      <td>2413</td>\n",
       "    </tr>\n",
       "    <tr>\n",
       "      <th>9</th>\n",
       "      <td>Thessaloniki (Greece)</td>\n",
       "      <td>Thessaloniki</td>\n",
       "      <td>40.629269</td>\n",
       "      <td>22.947412</td>\n",
       "      <td>4997</td>\n",
       "    </tr>\n",
       "    <tr>\n",
       "      <th>10</th>\n",
       "      <td>London 5 (UK)</td>\n",
       "      <td>London</td>\n",
       "      <td>51.509865</td>\n",
       "      <td>-0.118092</td>\n",
       "      <td>3676</td>\n",
       "    </tr>\n",
       "  </tbody>\n",
       "</table>\n",
       "</div>"
      ],
      "text/plain": [
       "                  Location Location_short        lat         lon  distance_mi\n",
       "0     Stockholm 2 (Sweden)      Stockholm  59.334591   18.063240         4129\n",
       "1       Los Angeles 3 (CA)    Los Angeles  34.052235 -118.243683         2272\n",
       "2      Philadelphia 2 (PA)   Philadelphia  39.952583  -75.165222          137\n",
       "3          Portland 2 (OR)       Portland  45.523064 -122.676483         2325\n",
       "4    Frankfurt 3 (Germany)      Frankfurt  50.110924    8.682127         4068\n",
       "5   Dusseldorf 2 (Germany)     Dusseldorf  51.233334    6.783333         3961\n",
       "6          Warsaw (Poland)         Warsaw  52.237049   21.017532         4468\n",
       "7           Chicago 2 (IL)        Chicago  41.881832  -87.623177          571\n",
       "8     San Francisco 2 (CA)  San Francisco  37.773972 -122.431297         2413\n",
       "9    Thessaloniki (Greece)   Thessaloniki  40.629269   22.947412         4997\n",
       "10           London 5 (UK)         London  51.509865   -0.118092         3676"
      ]
     },
     "execution_count": 55,
     "metadata": {},
     "output_type": "execute_result"
    }
   ],
   "source": [
    "df_loc"
   ]
  },
  {
   "cell_type": "code",
   "execution_count": 56,
   "id": "8e050f42",
   "metadata": {},
   "outputs": [
    {
     "data": {
      "text/html": [
       "<div>\n",
       "<style scoped>\n",
       "    .dataframe tbody tr th:only-of-type {\n",
       "        vertical-align: middle;\n",
       "    }\n",
       "\n",
       "    .dataframe tbody tr th {\n",
       "        vertical-align: top;\n",
       "    }\n",
       "\n",
       "    .dataframe thead th {\n",
       "        text-align: right;\n",
       "    }\n",
       "</style>\n",
       "<table border=\"1\" class=\"dataframe\">\n",
       "  <thead>\n",
       "    <tr style=\"text-align: right;\">\n",
       "      <th></th>\n",
       "      <th>Location</th>\n",
       "      <th>Location_short</th>\n",
       "      <th>lat</th>\n",
       "      <th>lon</th>\n",
       "      <th>distance_mi</th>\n",
       "    </tr>\n",
       "  </thead>\n",
       "  <tbody>\n",
       "    <tr>\n",
       "      <th>2</th>\n",
       "      <td>Philadelphia 2 (PA)</td>\n",
       "      <td>Philadelphia</td>\n",
       "      <td>39.952583</td>\n",
       "      <td>-75.165222</td>\n",
       "      <td>137</td>\n",
       "    </tr>\n",
       "    <tr>\n",
       "      <th>7</th>\n",
       "      <td>Chicago 2 (IL)</td>\n",
       "      <td>Chicago</td>\n",
       "      <td>41.881832</td>\n",
       "      <td>-87.623177</td>\n",
       "      <td>571</td>\n",
       "    </tr>\n",
       "    <tr>\n",
       "      <th>1</th>\n",
       "      <td>Los Angeles 3 (CA)</td>\n",
       "      <td>Los Angeles</td>\n",
       "      <td>34.052235</td>\n",
       "      <td>-118.243683</td>\n",
       "      <td>2272</td>\n",
       "    </tr>\n",
       "    <tr>\n",
       "      <th>3</th>\n",
       "      <td>Portland 2 (OR)</td>\n",
       "      <td>Portland</td>\n",
       "      <td>45.523064</td>\n",
       "      <td>-122.676483</td>\n",
       "      <td>2325</td>\n",
       "    </tr>\n",
       "    <tr>\n",
       "      <th>8</th>\n",
       "      <td>San Francisco 2 (CA)</td>\n",
       "      <td>San Francisco</td>\n",
       "      <td>37.773972</td>\n",
       "      <td>-122.431297</td>\n",
       "      <td>2413</td>\n",
       "    </tr>\n",
       "    <tr>\n",
       "      <th>10</th>\n",
       "      <td>London 5 (UK)</td>\n",
       "      <td>London</td>\n",
       "      <td>51.509865</td>\n",
       "      <td>-0.118092</td>\n",
       "      <td>3676</td>\n",
       "    </tr>\n",
       "    <tr>\n",
       "      <th>5</th>\n",
       "      <td>Dusseldorf 2 (Germany)</td>\n",
       "      <td>Dusseldorf</td>\n",
       "      <td>51.233334</td>\n",
       "      <td>6.783333</td>\n",
       "      <td>3961</td>\n",
       "    </tr>\n",
       "    <tr>\n",
       "      <th>4</th>\n",
       "      <td>Frankfurt 3 (Germany)</td>\n",
       "      <td>Frankfurt</td>\n",
       "      <td>50.110924</td>\n",
       "      <td>8.682127</td>\n",
       "      <td>4068</td>\n",
       "    </tr>\n",
       "    <tr>\n",
       "      <th>0</th>\n",
       "      <td>Stockholm 2 (Sweden)</td>\n",
       "      <td>Stockholm</td>\n",
       "      <td>59.334591</td>\n",
       "      <td>18.063240</td>\n",
       "      <td>4129</td>\n",
       "    </tr>\n",
       "    <tr>\n",
       "      <th>6</th>\n",
       "      <td>Warsaw (Poland)</td>\n",
       "      <td>Warsaw</td>\n",
       "      <td>52.237049</td>\n",
       "      <td>21.017532</td>\n",
       "      <td>4468</td>\n",
       "    </tr>\n",
       "    <tr>\n",
       "      <th>9</th>\n",
       "      <td>Thessaloniki (Greece)</td>\n",
       "      <td>Thessaloniki</td>\n",
       "      <td>40.629269</td>\n",
       "      <td>22.947412</td>\n",
       "      <td>4997</td>\n",
       "    </tr>\n",
       "  </tbody>\n",
       "</table>\n",
       "</div>"
      ],
      "text/plain": [
       "                  Location Location_short        lat         lon  distance_mi\n",
       "2      Philadelphia 2 (PA)   Philadelphia  39.952583  -75.165222          137\n",
       "7           Chicago 2 (IL)        Chicago  41.881832  -87.623177          571\n",
       "1       Los Angeles 3 (CA)    Los Angeles  34.052235 -118.243683         2272\n",
       "3          Portland 2 (OR)       Portland  45.523064 -122.676483         2325\n",
       "8     San Francisco 2 (CA)  San Francisco  37.773972 -122.431297         2413\n",
       "10           London 5 (UK)         London  51.509865   -0.118092         3676\n",
       "5   Dusseldorf 2 (Germany)     Dusseldorf  51.233334    6.783333         3961\n",
       "4    Frankfurt 3 (Germany)      Frankfurt  50.110924    8.682127         4068\n",
       "0     Stockholm 2 (Sweden)      Stockholm  59.334591   18.063240         4129\n",
       "6          Warsaw (Poland)         Warsaw  52.237049   21.017532         4468\n",
       "9    Thessaloniki (Greece)   Thessaloniki  40.629269   22.947412         4997"
      ]
     },
     "execution_count": 56,
     "metadata": {},
     "output_type": "execute_result"
    }
   ],
   "source": [
    "df_loc.sort_values(by=['distance_mi'])"
   ]
  },
  {
   "cell_type": "code",
   "execution_count": 57,
   "id": "519cc0e9",
   "metadata": {},
   "outputs": [],
   "source": [
    "df_chicago = df_dist_latency2[df_dist_latency2['distance_mi'] == 571]"
   ]
  },
  {
   "cell_type": "code",
   "execution_count": 58,
   "id": "afebd441",
   "metadata": {},
   "outputs": [
    {
     "data": {
      "text/html": [
       "<div>\n",
       "<style scoped>\n",
       "    .dataframe tbody tr th:only-of-type {\n",
       "        vertical-align: middle;\n",
       "    }\n",
       "\n",
       "    .dataframe tbody tr th {\n",
       "        vertical-align: top;\n",
       "    }\n",
       "\n",
       "    .dataframe thead th {\n",
       "        text-align: right;\n",
       "    }\n",
       "</style>\n",
       "<table border=\"1\" class=\"dataframe\">\n",
       "  <thead>\n",
       "    <tr style=\"text-align: right;\">\n",
       "      <th></th>\n",
       "      <th>distance_mi</th>\n",
       "      <th>Response Time (ms)</th>\n",
       "      <th>latency</th>\n",
       "    </tr>\n",
       "  </thead>\n",
       "  <tbody>\n",
       "    <tr>\n",
       "      <th>6865</th>\n",
       "      <td>571</td>\n",
       "      <td>259 ms</td>\n",
       "      <td>259</td>\n",
       "    </tr>\n",
       "    <tr>\n",
       "      <th>6866</th>\n",
       "      <td>571</td>\n",
       "      <td>232 ms</td>\n",
       "      <td>232</td>\n",
       "    </tr>\n",
       "    <tr>\n",
       "      <th>6867</th>\n",
       "      <td>571</td>\n",
       "      <td>163 ms</td>\n",
       "      <td>163</td>\n",
       "    </tr>\n",
       "    <tr>\n",
       "      <th>6868</th>\n",
       "      <td>571</td>\n",
       "      <td>270 ms</td>\n",
       "      <td>270</td>\n",
       "    </tr>\n",
       "    <tr>\n",
       "      <th>6869</th>\n",
       "      <td>571</td>\n",
       "      <td>196 ms</td>\n",
       "      <td>196</td>\n",
       "    </tr>\n",
       "  </tbody>\n",
       "</table>\n",
       "</div>"
      ],
      "text/plain": [
       "      distance_mi Response Time (ms)  latency\n",
       "6865          571             259 ms      259\n",
       "6866          571             232 ms      232\n",
       "6867          571             163 ms      163\n",
       "6868          571             270 ms      270\n",
       "6869          571             196 ms      196"
      ]
     },
     "execution_count": 58,
     "metadata": {},
     "output_type": "execute_result"
    }
   ],
   "source": [
    "df_chicago.head()"
   ]
  },
  {
   "cell_type": "code",
   "execution_count": 59,
   "id": "d25d0eb2",
   "metadata": {},
   "outputs": [
    {
     "data": {
      "text/plain": [
       "(0.0, 700.0)"
      ]
     },
     "execution_count": 59,
     "metadata": {},
     "output_type": "execute_result"
    },
    {
     "data": {
      "image/png": "[encoded data removed]",
      "text/plain": [
       "<Figure size 1152x576 with 1 Axes>"
      ]
     },
     "metadata": {
      "needs_background": "light"
     },
     "output_type": "display_data"
    }
   ],
   "source": [
    "boxplot = df_chicago.boxplot(column=['latency'], figsize=(16,8))\n",
    "plt.ylim(0,700)"
   ]
  },
  {
   "cell_type": "code",
   "execution_count": 60,
   "id": "8325dd4c",
   "metadata": {},
   "outputs": [],
   "source": [
    "df1 = df_philadelphia.copy()"
   ]
  },
  {
   "cell_type": "code",
   "execution_count": 62,
   "id": "4969a00c",
   "metadata": {},
   "outputs": [],
   "source": [
    "df1['chicago'] = df_chicago['latency']"
   ]
  },
  {
   "cell_type": "code",
   "execution_count": 63,
   "id": "a1f6e689",
   "metadata": {},
   "outputs": [
    {
     "data": {
      "text/plain": [
       "(0.0, 700.0)"
      ]
     },
     "execution_count": 63,
     "metadata": {},
     "output_type": "execute_result"
    },
    {
     "data": {
      "image/png": "[encoded data removed]",
      "text/plain": [
       "<Figure size 1152x576 with 1 Axes>"
      ]
     },
     "metadata": {
      "needs_background": "light"
     },
     "output_type": "display_data"
    }
   ],
   "source": [
    "boxplot = df1.boxplot(column=['chicago'], figsize=(16,8))\n",
    "plt.ylim(0,700)"
   ]
  },
  {
   "cell_type": "code",
   "execution_count": 64,
   "id": "0d9b3b3b",
   "metadata": {},
   "outputs": [
    {
     "data": {
      "text/plain": [
       "2000   NaN\n",
       "2001   NaN\n",
       "2002   NaN\n",
       "2003   NaN\n",
       "2004   NaN\n",
       "Name: chicago, dtype: float64"
      ]
     },
     "execution_count": 64,
     "metadata": {},
     "output_type": "execute_result"
    }
   ],
   "source": [
    "df1['chicago'].head()"
   ]
  },
  {
   "cell_type": "code",
   "execution_count": 65,
   "id": "79e358db",
   "metadata": {},
   "outputs": [
    {
     "data": {
      "text/plain": [
       "2995   NaN\n",
       "2996   NaN\n",
       "2997   NaN\n",
       "2998   NaN\n",
       "2999   NaN\n",
       "Name: chicago, dtype: float64"
      ]
     },
     "execution_count": 65,
     "metadata": {},
     "output_type": "execute_result"
    }
   ],
   "source": [
    "df1['chicago'].tail()"
   ]
  },
  {
   "cell_type": "code",
   "execution_count": 66,
   "id": "0125419e",
   "metadata": {},
   "outputs": [
    {
     "data": {
      "text/html": [
       "<div>\n",
       "<style scoped>\n",
       "    .dataframe tbody tr th:only-of-type {\n",
       "        vertical-align: middle;\n",
       "    }\n",
       "\n",
       "    .dataframe tbody tr th {\n",
       "        vertical-align: top;\n",
       "    }\n",
       "\n",
       "    .dataframe thead th {\n",
       "        text-align: right;\n",
       "    }\n",
       "</style>\n",
       "<table border=\"1\" class=\"dataframe\">\n",
       "  <thead>\n",
       "    <tr style=\"text-align: right;\">\n",
       "      <th></th>\n",
       "      <th>distance_mi</th>\n",
       "      <th>Response Time (ms)</th>\n",
       "      <th>latency</th>\n",
       "      <th>chicago</th>\n",
       "    </tr>\n",
       "  </thead>\n",
       "  <tbody>\n",
       "    <tr>\n",
       "      <th>2000</th>\n",
       "      <td>137</td>\n",
       "      <td>259 ms</td>\n",
       "      <td>259</td>\n",
       "      <td>NaN</td>\n",
       "    </tr>\n",
       "    <tr>\n",
       "      <th>2001</th>\n",
       "      <td>137</td>\n",
       "      <td>290 ms</td>\n",
       "      <td>290</td>\n",
       "      <td>NaN</td>\n",
       "    </tr>\n",
       "    <tr>\n",
       "      <th>2002</th>\n",
       "      <td>137</td>\n",
       "      <td>211 ms</td>\n",
       "      <td>211</td>\n",
       "      <td>NaN</td>\n",
       "    </tr>\n",
       "    <tr>\n",
       "      <th>2003</th>\n",
       "      <td>137</td>\n",
       "      <td>173 ms</td>\n",
       "      <td>173</td>\n",
       "      <td>NaN</td>\n",
       "    </tr>\n",
       "    <tr>\n",
       "      <th>2004</th>\n",
       "      <td>137</td>\n",
       "      <td>240 ms</td>\n",
       "      <td>240</td>\n",
       "      <td>NaN</td>\n",
       "    </tr>\n",
       "  </tbody>\n",
       "</table>\n",
       "</div>"
      ],
      "text/plain": [
       "      distance_mi Response Time (ms)  latency  chicago\n",
       "2000          137             259 ms      259      NaN\n",
       "2001          137             290 ms      290      NaN\n",
       "2002          137             211 ms      211      NaN\n",
       "2003          137             173 ms      173      NaN\n",
       "2004          137             240 ms      240      NaN"
      ]
     },
     "execution_count": 66,
     "metadata": {},
     "output_type": "execute_result"
    }
   ],
   "source": [
    "df1.head()"
   ]
  },
  {
   "cell_type": "code",
   "execution_count": 67,
   "id": "f36d1c78",
   "metadata": {},
   "outputs": [
    {
     "data": {
      "text/plain": [
       "6865    259\n",
       "6866    232\n",
       "6867    163\n",
       "6868    270\n",
       "6869    196\n",
       "       ... \n",
       "7860    183\n",
       "7861    270\n",
       "7862    238\n",
       "7863    185\n",
       "7864    236\n",
       "Name: latency, Length: 1000, dtype: int64"
      ]
     },
     "execution_count": 67,
     "metadata": {},
     "output_type": "execute_result"
    }
   ],
   "source": [
    "df_chicago['latency']"
   ]
  },
  {
   "cell_type": "code",
   "execution_count": 69,
   "id": "210edf61",
   "metadata": {},
   "outputs": [
    {
     "data": {
      "text/plain": [
       "(1000, 3)"
      ]
     },
     "execution_count": 69,
     "metadata": {},
     "output_type": "execute_result"
    }
   ],
   "source": [
    "df_philadelphia.shape"
   ]
  },
  {
   "cell_type": "code",
   "execution_count": 70,
   "id": "eb167d53",
   "metadata": {},
   "outputs": [
    {
     "data": {
      "text/plain": [
       "(1000, 3)"
      ]
     },
     "execution_count": 70,
     "metadata": {},
     "output_type": "execute_result"
    }
   ],
   "source": [
    "df_chicago.shape"
   ]
  },
  {
   "cell_type": "code",
   "execution_count": 71,
   "id": "98040ca0",
   "metadata": {},
   "outputs": [
    {
     "data": {
      "text/plain": [
       "RangeIndex(start=0, stop=3, step=1)"
      ]
     },
     "execution_count": 71,
     "metadata": {},
     "output_type": "execute_result"
    }
   ],
   "source": [
    "pd.RangeIndex(3)"
   ]
  },
  {
   "cell_type": "code",
   "execution_count": 72,
   "id": "bdb9ecad",
   "metadata": {},
   "outputs": [
    {
     "data": {
      "text/html": [
       "<div>\n",
       "<style scoped>\n",
       "    .dataframe tbody tr th:only-of-type {\n",
       "        vertical-align: middle;\n",
       "    }\n",
       "\n",
       "    .dataframe tbody tr th {\n",
       "        vertical-align: top;\n",
       "    }\n",
       "\n",
       "    .dataframe thead th {\n",
       "        text-align: right;\n",
       "    }\n",
       "</style>\n",
       "<table border=\"1\" class=\"dataframe\">\n",
       "  <thead>\n",
       "    <tr style=\"text-align: right;\">\n",
       "      <th></th>\n",
       "      <th>distance_mi</th>\n",
       "      <th>Response Time (ms)</th>\n",
       "      <th>latency</th>\n",
       "      <th>chicago</th>\n",
       "    </tr>\n",
       "  </thead>\n",
       "  <tbody>\n",
       "    <tr>\n",
       "      <th>2000</th>\n",
       "      <td>137</td>\n",
       "      <td>259 ms</td>\n",
       "      <td>259</td>\n",
       "      <td>NaN</td>\n",
       "    </tr>\n",
       "    <tr>\n",
       "      <th>2001</th>\n",
       "      <td>137</td>\n",
       "      <td>290 ms</td>\n",
       "      <td>290</td>\n",
       "      <td>NaN</td>\n",
       "    </tr>\n",
       "    <tr>\n",
       "      <th>2002</th>\n",
       "      <td>137</td>\n",
       "      <td>211 ms</td>\n",
       "      <td>211</td>\n",
       "      <td>NaN</td>\n",
       "    </tr>\n",
       "    <tr>\n",
       "      <th>2003</th>\n",
       "      <td>137</td>\n",
       "      <td>173 ms</td>\n",
       "      <td>173</td>\n",
       "      <td>NaN</td>\n",
       "    </tr>\n",
       "    <tr>\n",
       "      <th>2004</th>\n",
       "      <td>137</td>\n",
       "      <td>240 ms</td>\n",
       "      <td>240</td>\n",
       "      <td>NaN</td>\n",
       "    </tr>\n",
       "  </tbody>\n",
       "</table>\n",
       "</div>"
      ],
      "text/plain": [
       "      distance_mi Response Time (ms)  latency  chicago\n",
       "2000          137             259 ms      259      NaN\n",
       "2001          137             290 ms      290      NaN\n",
       "2002          137             211 ms      211      NaN\n",
       "2003          137             173 ms      173      NaN\n",
       "2004          137             240 ms      240      NaN"
      ]
     },
     "execution_count": 72,
     "metadata": {},
     "output_type": "execute_result"
    }
   ],
   "source": [
    "df1.head()"
   ]
  },
  {
   "cell_type": "code",
   "execution_count": 73,
   "id": "f4f38372",
   "metadata": {},
   "outputs": [
    {
     "data": {
      "text/html": [
       "<div>\n",
       "<style scoped>\n",
       "    .dataframe tbody tr th:only-of-type {\n",
       "        vertical-align: middle;\n",
       "    }\n",
       "\n",
       "    .dataframe tbody tr th {\n",
       "        vertical-align: top;\n",
       "    }\n",
       "\n",
       "    .dataframe thead th {\n",
       "        text-align: right;\n",
       "    }\n",
       "</style>\n",
       "<table border=\"1\" class=\"dataframe\">\n",
       "  <thead>\n",
       "    <tr style=\"text-align: right;\">\n",
       "      <th></th>\n",
       "      <th>distance_mi</th>\n",
       "      <th>Response Time (ms)</th>\n",
       "      <th>latency</th>\n",
       "      <th>chicago</th>\n",
       "    </tr>\n",
       "  </thead>\n",
       "  <tbody>\n",
       "    <tr>\n",
       "      <th>0</th>\n",
       "      <td>NaN</td>\n",
       "      <td>NaN</td>\n",
       "      <td>NaN</td>\n",
       "      <td>NaN</td>\n",
       "    </tr>\n",
       "    <tr>\n",
       "      <th>1</th>\n",
       "      <td>NaN</td>\n",
       "      <td>NaN</td>\n",
       "      <td>NaN</td>\n",
       "      <td>NaN</td>\n",
       "    </tr>\n",
       "    <tr>\n",
       "      <th>2</th>\n",
       "      <td>NaN</td>\n",
       "      <td>NaN</td>\n",
       "      <td>NaN</td>\n",
       "      <td>NaN</td>\n",
       "    </tr>\n",
       "    <tr>\n",
       "      <th>3</th>\n",
       "      <td>NaN</td>\n",
       "      <td>NaN</td>\n",
       "      <td>NaN</td>\n",
       "      <td>NaN</td>\n",
       "    </tr>\n",
       "    <tr>\n",
       "      <th>4</th>\n",
       "      <td>NaN</td>\n",
       "      <td>NaN</td>\n",
       "      <td>NaN</td>\n",
       "      <td>NaN</td>\n",
       "    </tr>\n",
       "    <tr>\n",
       "      <th>...</th>\n",
       "      <td>...</td>\n",
       "      <td>...</td>\n",
       "      <td>...</td>\n",
       "      <td>...</td>\n",
       "    </tr>\n",
       "    <tr>\n",
       "      <th>995</th>\n",
       "      <td>NaN</td>\n",
       "      <td>NaN</td>\n",
       "      <td>NaN</td>\n",
       "      <td>NaN</td>\n",
       "    </tr>\n",
       "    <tr>\n",
       "      <th>996</th>\n",
       "      <td>NaN</td>\n",
       "      <td>NaN</td>\n",
       "      <td>NaN</td>\n",
       "      <td>NaN</td>\n",
       "    </tr>\n",
       "    <tr>\n",
       "      <th>997</th>\n",
       "      <td>NaN</td>\n",
       "      <td>NaN</td>\n",
       "      <td>NaN</td>\n",
       "      <td>NaN</td>\n",
       "    </tr>\n",
       "    <tr>\n",
       "      <th>998</th>\n",
       "      <td>NaN</td>\n",
       "      <td>NaN</td>\n",
       "      <td>NaN</td>\n",
       "      <td>NaN</td>\n",
       "    </tr>\n",
       "    <tr>\n",
       "      <th>999</th>\n",
       "      <td>NaN</td>\n",
       "      <td>NaN</td>\n",
       "      <td>NaN</td>\n",
       "      <td>NaN</td>\n",
       "    </tr>\n",
       "  </tbody>\n",
       "</table>\n",
       "<p>1000 rows × 4 columns</p>\n",
       "</div>"
      ],
      "text/plain": [
       "     distance_mi Response Time (ms)  latency  chicago\n",
       "0            NaN                NaN      NaN      NaN\n",
       "1            NaN                NaN      NaN      NaN\n",
       "2            NaN                NaN      NaN      NaN\n",
       "3            NaN                NaN      NaN      NaN\n",
       "4            NaN                NaN      NaN      NaN\n",
       "..           ...                ...      ...      ...\n",
       "995          NaN                NaN      NaN      NaN\n",
       "996          NaN                NaN      NaN      NaN\n",
       "997          NaN                NaN      NaN      NaN\n",
       "998          NaN                NaN      NaN      NaN\n",
       "999          NaN                NaN      NaN      NaN\n",
       "\n",
       "[1000 rows x 4 columns]"
      ]
     },
     "execution_count": 73,
     "metadata": {},
     "output_type": "execute_result"
    }
   ],
   "source": [
    "df1.reindex(pd.RangeIndex(1000))"
   ]
  },
  {
   "cell_type": "code",
   "execution_count": 74,
   "id": "4a06d3bb",
   "metadata": {},
   "outputs": [
    {
     "data": {
      "text/html": [
       "<div>\n",
       "<style scoped>\n",
       "    .dataframe tbody tr th:only-of-type {\n",
       "        vertical-align: middle;\n",
       "    }\n",
       "\n",
       "    .dataframe tbody tr th {\n",
       "        vertical-align: top;\n",
       "    }\n",
       "\n",
       "    .dataframe thead th {\n",
       "        text-align: right;\n",
       "    }\n",
       "</style>\n",
       "<table border=\"1\" class=\"dataframe\">\n",
       "  <thead>\n",
       "    <tr style=\"text-align: right;\">\n",
       "      <th></th>\n",
       "      <th>distance_mi</th>\n",
       "      <th>Response Time (ms)</th>\n",
       "      <th>latency</th>\n",
       "      <th>chicago</th>\n",
       "    </tr>\n",
       "  </thead>\n",
       "  <tbody>\n",
       "    <tr>\n",
       "      <th>2000</th>\n",
       "      <td>137</td>\n",
       "      <td>259 ms</td>\n",
       "      <td>259</td>\n",
       "      <td>NaN</td>\n",
       "    </tr>\n",
       "    <tr>\n",
       "      <th>2001</th>\n",
       "      <td>137</td>\n",
       "      <td>290 ms</td>\n",
       "      <td>290</td>\n",
       "      <td>NaN</td>\n",
       "    </tr>\n",
       "    <tr>\n",
       "      <th>2002</th>\n",
       "      <td>137</td>\n",
       "      <td>211 ms</td>\n",
       "      <td>211</td>\n",
       "      <td>NaN</td>\n",
       "    </tr>\n",
       "    <tr>\n",
       "      <th>2003</th>\n",
       "      <td>137</td>\n",
       "      <td>173 ms</td>\n",
       "      <td>173</td>\n",
       "      <td>NaN</td>\n",
       "    </tr>\n",
       "    <tr>\n",
       "      <th>2004</th>\n",
       "      <td>137</td>\n",
       "      <td>240 ms</td>\n",
       "      <td>240</td>\n",
       "      <td>NaN</td>\n",
       "    </tr>\n",
       "  </tbody>\n",
       "</table>\n",
       "</div>"
      ],
      "text/plain": [
       "      distance_mi Response Time (ms)  latency  chicago\n",
       "2000          137             259 ms      259      NaN\n",
       "2001          137             290 ms      290      NaN\n",
       "2002          137             211 ms      211      NaN\n",
       "2003          137             173 ms      173      NaN\n",
       "2004          137             240 ms      240      NaN"
      ]
     },
     "execution_count": 74,
     "metadata": {},
     "output_type": "execute_result"
    }
   ],
   "source": [
    "df1.head()"
   ]
  },
  {
   "cell_type": "code",
   "execution_count": 76,
   "id": "92cde65a",
   "metadata": {},
   "outputs": [
    {
     "data": {
      "text/html": [
       "<div>\n",
       "<style scoped>\n",
       "    .dataframe tbody tr th:only-of-type {\n",
       "        vertical-align: middle;\n",
       "    }\n",
       "\n",
       "    .dataframe tbody tr th {\n",
       "        vertical-align: top;\n",
       "    }\n",
       "\n",
       "    .dataframe thead th {\n",
       "        text-align: right;\n",
       "    }\n",
       "</style>\n",
       "<table border=\"1\" class=\"dataframe\">\n",
       "  <thead>\n",
       "    <tr style=\"text-align: right;\">\n",
       "      <th></th>\n",
       "      <th>distance_mi</th>\n",
       "      <th>Response Time (ms)</th>\n",
       "      <th>latency</th>\n",
       "      <th>chicago</th>\n",
       "    </tr>\n",
       "  </thead>\n",
       "  <tbody>\n",
       "    <tr>\n",
       "      <th>0</th>\n",
       "      <td>137</td>\n",
       "      <td>259 ms</td>\n",
       "      <td>259</td>\n",
       "      <td>NaN</td>\n",
       "    </tr>\n",
       "    <tr>\n",
       "      <th>1</th>\n",
       "      <td>137</td>\n",
       "      <td>290 ms</td>\n",
       "      <td>290</td>\n",
       "      <td>NaN</td>\n",
       "    </tr>\n",
       "    <tr>\n",
       "      <th>2</th>\n",
       "      <td>137</td>\n",
       "      <td>211 ms</td>\n",
       "      <td>211</td>\n",
       "      <td>NaN</td>\n",
       "    </tr>\n",
       "    <tr>\n",
       "      <th>3</th>\n",
       "      <td>137</td>\n",
       "      <td>173 ms</td>\n",
       "      <td>173</td>\n",
       "      <td>NaN</td>\n",
       "    </tr>\n",
       "    <tr>\n",
       "      <th>4</th>\n",
       "      <td>137</td>\n",
       "      <td>240 ms</td>\n",
       "      <td>240</td>\n",
       "      <td>NaN</td>\n",
       "    </tr>\n",
       "    <tr>\n",
       "      <th>...</th>\n",
       "      <td>...</td>\n",
       "      <td>...</td>\n",
       "      <td>...</td>\n",
       "      <td>...</td>\n",
       "    </tr>\n",
       "    <tr>\n",
       "      <th>995</th>\n",
       "      <td>137</td>\n",
       "      <td>101 ms</td>\n",
       "      <td>101</td>\n",
       "      <td>NaN</td>\n",
       "    </tr>\n",
       "    <tr>\n",
       "      <th>996</th>\n",
       "      <td>137</td>\n",
       "      <td>129 ms</td>\n",
       "      <td>129</td>\n",
       "      <td>NaN</td>\n",
       "    </tr>\n",
       "    <tr>\n",
       "      <th>997</th>\n",
       "      <td>137</td>\n",
       "      <td>275 ms</td>\n",
       "      <td>275</td>\n",
       "      <td>NaN</td>\n",
       "    </tr>\n",
       "    <tr>\n",
       "      <th>998</th>\n",
       "      <td>137</td>\n",
       "      <td>255 ms</td>\n",
       "      <td>255</td>\n",
       "      <td>NaN</td>\n",
       "    </tr>\n",
       "    <tr>\n",
       "      <th>999</th>\n",
       "      <td>137</td>\n",
       "      <td>188 ms</td>\n",
       "      <td>188</td>\n",
       "      <td>NaN</td>\n",
       "    </tr>\n",
       "  </tbody>\n",
       "</table>\n",
       "<p>1000 rows × 4 columns</p>\n",
       "</div>"
      ],
      "text/plain": [
       "     distance_mi Response Time (ms)  latency  chicago\n",
       "0            137             259 ms      259      NaN\n",
       "1            137             290 ms      290      NaN\n",
       "2            137             211 ms      211      NaN\n",
       "3            137             173 ms      173      NaN\n",
       "4            137             240 ms      240      NaN\n",
       "..           ...                ...      ...      ...\n",
       "995          137             101 ms      101      NaN\n",
       "996          137             129 ms      129      NaN\n",
       "997          137             275 ms      275      NaN\n",
       "998          137             255 ms      255      NaN\n",
       "999          137             188 ms      188      NaN\n",
       "\n",
       "[1000 rows x 4 columns]"
      ]
     },
     "execution_count": 76,
     "metadata": {},
     "output_type": "execute_result"
    }
   ],
   "source": [
    "df1.set_index(pd.RangeIndex(1000))"
   ]
  },
  {
   "cell_type": "code",
   "execution_count": 77,
   "id": "2e6aefab",
   "metadata": {},
   "outputs": [
    {
     "data": {
      "text/html": [
       "<div>\n",
       "<style scoped>\n",
       "    .dataframe tbody tr th:only-of-type {\n",
       "        vertical-align: middle;\n",
       "    }\n",
       "\n",
       "    .dataframe tbody tr th {\n",
       "        vertical-align: top;\n",
       "    }\n",
       "\n",
       "    .dataframe thead th {\n",
       "        text-align: right;\n",
       "    }\n",
       "</style>\n",
       "<table border=\"1\" class=\"dataframe\">\n",
       "  <thead>\n",
       "    <tr style=\"text-align: right;\">\n",
       "      <th></th>\n",
       "      <th>distance_mi</th>\n",
       "      <th>Response Time (ms)</th>\n",
       "      <th>latency</th>\n",
       "      <th>chicago</th>\n",
       "    </tr>\n",
       "  </thead>\n",
       "  <tbody>\n",
       "    <tr>\n",
       "      <th>2000</th>\n",
       "      <td>137</td>\n",
       "      <td>259 ms</td>\n",
       "      <td>259</td>\n",
       "      <td>NaN</td>\n",
       "    </tr>\n",
       "    <tr>\n",
       "      <th>2001</th>\n",
       "      <td>137</td>\n",
       "      <td>290 ms</td>\n",
       "      <td>290</td>\n",
       "      <td>NaN</td>\n",
       "    </tr>\n",
       "    <tr>\n",
       "      <th>2002</th>\n",
       "      <td>137</td>\n",
       "      <td>211 ms</td>\n",
       "      <td>211</td>\n",
       "      <td>NaN</td>\n",
       "    </tr>\n",
       "    <tr>\n",
       "      <th>2003</th>\n",
       "      <td>137</td>\n",
       "      <td>173 ms</td>\n",
       "      <td>173</td>\n",
       "      <td>NaN</td>\n",
       "    </tr>\n",
       "    <tr>\n",
       "      <th>2004</th>\n",
       "      <td>137</td>\n",
       "      <td>240 ms</td>\n",
       "      <td>240</td>\n",
       "      <td>NaN</td>\n",
       "    </tr>\n",
       "  </tbody>\n",
       "</table>\n",
       "</div>"
      ],
      "text/plain": [
       "      distance_mi Response Time (ms)  latency  chicago\n",
       "2000          137             259 ms      259      NaN\n",
       "2001          137             290 ms      290      NaN\n",
       "2002          137             211 ms      211      NaN\n",
       "2003          137             173 ms      173      NaN\n",
       "2004          137             240 ms      240      NaN"
      ]
     },
     "execution_count": 77,
     "metadata": {},
     "output_type": "execute_result"
    }
   ],
   "source": [
    "df1.head()"
   ]
  },
  {
   "cell_type": "code",
   "execution_count": 78,
   "id": "a447d547",
   "metadata": {},
   "outputs": [],
   "source": [
    "df2 = df1.set_index(pd.RangeIndex(1000))"
   ]
  },
  {
   "cell_type": "code",
   "execution_count": 79,
   "id": "a02ba5a9",
   "metadata": {},
   "outputs": [
    {
     "data": {
      "text/html": [
       "<div>\n",
       "<style scoped>\n",
       "    .dataframe tbody tr th:only-of-type {\n",
       "        vertical-align: middle;\n",
       "    }\n",
       "\n",
       "    .dataframe tbody tr th {\n",
       "        vertical-align: top;\n",
       "    }\n",
       "\n",
       "    .dataframe thead th {\n",
       "        text-align: right;\n",
       "    }\n",
       "</style>\n",
       "<table border=\"1\" class=\"dataframe\">\n",
       "  <thead>\n",
       "    <tr style=\"text-align: right;\">\n",
       "      <th></th>\n",
       "      <th>distance_mi</th>\n",
       "      <th>Response Time (ms)</th>\n",
       "      <th>latency</th>\n",
       "      <th>chicago</th>\n",
       "    </tr>\n",
       "  </thead>\n",
       "  <tbody>\n",
       "    <tr>\n",
       "      <th>0</th>\n",
       "      <td>137</td>\n",
       "      <td>259 ms</td>\n",
       "      <td>259</td>\n",
       "      <td>NaN</td>\n",
       "    </tr>\n",
       "    <tr>\n",
       "      <th>1</th>\n",
       "      <td>137</td>\n",
       "      <td>290 ms</td>\n",
       "      <td>290</td>\n",
       "      <td>NaN</td>\n",
       "    </tr>\n",
       "    <tr>\n",
       "      <th>2</th>\n",
       "      <td>137</td>\n",
       "      <td>211 ms</td>\n",
       "      <td>211</td>\n",
       "      <td>NaN</td>\n",
       "    </tr>\n",
       "    <tr>\n",
       "      <th>3</th>\n",
       "      <td>137</td>\n",
       "      <td>173 ms</td>\n",
       "      <td>173</td>\n",
       "      <td>NaN</td>\n",
       "    </tr>\n",
       "    <tr>\n",
       "      <th>4</th>\n",
       "      <td>137</td>\n",
       "      <td>240 ms</td>\n",
       "      <td>240</td>\n",
       "      <td>NaN</td>\n",
       "    </tr>\n",
       "  </tbody>\n",
       "</table>\n",
       "</div>"
      ],
      "text/plain": [
       "   distance_mi Response Time (ms)  latency  chicago\n",
       "0          137             259 ms      259      NaN\n",
       "1          137             290 ms      290      NaN\n",
       "2          137             211 ms      211      NaN\n",
       "3          137             173 ms      173      NaN\n",
       "4          137             240 ms      240      NaN"
      ]
     },
     "execution_count": 79,
     "metadata": {},
     "output_type": "execute_result"
    }
   ],
   "source": [
    "df2.head()"
   ]
  },
  {
   "cell_type": "code",
   "execution_count": 83,
   "id": "9d082b77",
   "metadata": {},
   "outputs": [
    {
     "data": {
      "text/html": [
       "<div>\n",
       "<style scoped>\n",
       "    .dataframe tbody tr th:only-of-type {\n",
       "        vertical-align: middle;\n",
       "    }\n",
       "\n",
       "    .dataframe tbody tr th {\n",
       "        vertical-align: top;\n",
       "    }\n",
       "\n",
       "    .dataframe thead th {\n",
       "        text-align: right;\n",
       "    }\n",
       "</style>\n",
       "<table border=\"1\" class=\"dataframe\">\n",
       "  <thead>\n",
       "    <tr style=\"text-align: right;\">\n",
       "      <th></th>\n",
       "      <th>distance_mi</th>\n",
       "      <th>Response Time (ms)</th>\n",
       "      <th>latency</th>\n",
       "    </tr>\n",
       "  </thead>\n",
       "  <tbody>\n",
       "    <tr>\n",
       "      <th>0</th>\n",
       "      <td>137</td>\n",
       "      <td>259 ms</td>\n",
       "      <td>259</td>\n",
       "    </tr>\n",
       "    <tr>\n",
       "      <th>1</th>\n",
       "      <td>137</td>\n",
       "      <td>290 ms</td>\n",
       "      <td>290</td>\n",
       "    </tr>\n",
       "    <tr>\n",
       "      <th>2</th>\n",
       "      <td>137</td>\n",
       "      <td>211 ms</td>\n",
       "      <td>211</td>\n",
       "    </tr>\n",
       "    <tr>\n",
       "      <th>3</th>\n",
       "      <td>137</td>\n",
       "      <td>173 ms</td>\n",
       "      <td>173</td>\n",
       "    </tr>\n",
       "    <tr>\n",
       "      <th>4</th>\n",
       "      <td>137</td>\n",
       "      <td>240 ms</td>\n",
       "      <td>240</td>\n",
       "    </tr>\n",
       "    <tr>\n",
       "      <th>...</th>\n",
       "      <td>...</td>\n",
       "      <td>...</td>\n",
       "      <td>...</td>\n",
       "    </tr>\n",
       "    <tr>\n",
       "      <th>995</th>\n",
       "      <td>137</td>\n",
       "      <td>101 ms</td>\n",
       "      <td>101</td>\n",
       "    </tr>\n",
       "    <tr>\n",
       "      <th>996</th>\n",
       "      <td>137</td>\n",
       "      <td>129 ms</td>\n",
       "      <td>129</td>\n",
       "    </tr>\n",
       "    <tr>\n",
       "      <th>997</th>\n",
       "      <td>137</td>\n",
       "      <td>275 ms</td>\n",
       "      <td>275</td>\n",
       "    </tr>\n",
       "    <tr>\n",
       "      <th>998</th>\n",
       "      <td>137</td>\n",
       "      <td>255 ms</td>\n",
       "      <td>255</td>\n",
       "    </tr>\n",
       "    <tr>\n",
       "      <th>999</th>\n",
       "      <td>137</td>\n",
       "      <td>188 ms</td>\n",
       "      <td>188</td>\n",
       "    </tr>\n",
       "  </tbody>\n",
       "</table>\n",
       "<p>1000 rows × 3 columns</p>\n",
       "</div>"
      ],
      "text/plain": [
       "     distance_mi Response Time (ms)  latency\n",
       "0            137             259 ms      259\n",
       "1            137             290 ms      290\n",
       "2            137             211 ms      211\n",
       "3            137             173 ms      173\n",
       "4            137             240 ms      240\n",
       "..           ...                ...      ...\n",
       "995          137             101 ms      101\n",
       "996          137             129 ms      129\n",
       "997          137             275 ms      275\n",
       "998          137             255 ms      255\n",
       "999          137             188 ms      188\n",
       "\n",
       "[1000 rows x 3 columns]"
      ]
     },
     "execution_count": 83,
     "metadata": {},
     "output_type": "execute_result"
    }
   ],
   "source": [
    "df2.drop(columns=['chicago'])"
   ]
  },
  {
   "cell_type": "code",
   "execution_count": 84,
   "id": "cbe94f6b",
   "metadata": {},
   "outputs": [],
   "source": [
    "df3 = df_chicago.set_index(pd.RangeIndex(1000))"
   ]
  },
  {
   "cell_type": "code",
   "execution_count": 85,
   "id": "6a7743f8",
   "metadata": {},
   "outputs": [
    {
     "data": {
      "text/html": [
       "<div>\n",
       "<style scoped>\n",
       "    .dataframe tbody tr th:only-of-type {\n",
       "        vertical-align: middle;\n",
       "    }\n",
       "\n",
       "    .dataframe tbody tr th {\n",
       "        vertical-align: top;\n",
       "    }\n",
       "\n",
       "    .dataframe thead th {\n",
       "        text-align: right;\n",
       "    }\n",
       "</style>\n",
       "<table border=\"1\" class=\"dataframe\">\n",
       "  <thead>\n",
       "    <tr style=\"text-align: right;\">\n",
       "      <th></th>\n",
       "      <th>distance_mi</th>\n",
       "      <th>Response Time (ms)</th>\n",
       "      <th>latency</th>\n",
       "    </tr>\n",
       "  </thead>\n",
       "  <tbody>\n",
       "    <tr>\n",
       "      <th>0</th>\n",
       "      <td>571</td>\n",
       "      <td>259 ms</td>\n",
       "      <td>259</td>\n",
       "    </tr>\n",
       "    <tr>\n",
       "      <th>1</th>\n",
       "      <td>571</td>\n",
       "      <td>232 ms</td>\n",
       "      <td>232</td>\n",
       "    </tr>\n",
       "    <tr>\n",
       "      <th>2</th>\n",
       "      <td>571</td>\n",
       "      <td>163 ms</td>\n",
       "      <td>163</td>\n",
       "    </tr>\n",
       "    <tr>\n",
       "      <th>3</th>\n",
       "      <td>571</td>\n",
       "      <td>270 ms</td>\n",
       "      <td>270</td>\n",
       "    </tr>\n",
       "    <tr>\n",
       "      <th>4</th>\n",
       "      <td>571</td>\n",
       "      <td>196 ms</td>\n",
       "      <td>196</td>\n",
       "    </tr>\n",
       "  </tbody>\n",
       "</table>\n",
       "</div>"
      ],
      "text/plain": [
       "   distance_mi Response Time (ms)  latency\n",
       "0          571             259 ms      259\n",
       "1          571             232 ms      232\n",
       "2          571             163 ms      163\n",
       "3          571             270 ms      270\n",
       "4          571             196 ms      196"
      ]
     },
     "execution_count": 85,
     "metadata": {},
     "output_type": "execute_result"
    }
   ],
   "source": [
    "df3.head()"
   ]
  },
  {
   "cell_type": "code",
   "execution_count": 86,
   "id": "0922558e",
   "metadata": {},
   "outputs": [],
   "source": [
    "df2['chicago'] = df3['latency']"
   ]
  },
  {
   "cell_type": "code",
   "execution_count": 87,
   "id": "26ae83ec",
   "metadata": {},
   "outputs": [
    {
     "data": {
      "text/html": [
       "<div>\n",
       "<style scoped>\n",
       "    .dataframe tbody tr th:only-of-type {\n",
       "        vertical-align: middle;\n",
       "    }\n",
       "\n",
       "    .dataframe tbody tr th {\n",
       "        vertical-align: top;\n",
       "    }\n",
       "\n",
       "    .dataframe thead th {\n",
       "        text-align: right;\n",
       "    }\n",
       "</style>\n",
       "<table border=\"1\" class=\"dataframe\">\n",
       "  <thead>\n",
       "    <tr style=\"text-align: right;\">\n",
       "      <th></th>\n",
       "      <th>distance_mi</th>\n",
       "      <th>Response Time (ms)</th>\n",
       "      <th>latency</th>\n",
       "      <th>chicago</th>\n",
       "    </tr>\n",
       "  </thead>\n",
       "  <tbody>\n",
       "    <tr>\n",
       "      <th>0</th>\n",
       "      <td>137</td>\n",
       "      <td>259 ms</td>\n",
       "      <td>259</td>\n",
       "      <td>259</td>\n",
       "    </tr>\n",
       "    <tr>\n",
       "      <th>1</th>\n",
       "      <td>137</td>\n",
       "      <td>290 ms</td>\n",
       "      <td>290</td>\n",
       "      <td>232</td>\n",
       "    </tr>\n",
       "    <tr>\n",
       "      <th>2</th>\n",
       "      <td>137</td>\n",
       "      <td>211 ms</td>\n",
       "      <td>211</td>\n",
       "      <td>163</td>\n",
       "    </tr>\n",
       "    <tr>\n",
       "      <th>3</th>\n",
       "      <td>137</td>\n",
       "      <td>173 ms</td>\n",
       "      <td>173</td>\n",
       "      <td>270</td>\n",
       "    </tr>\n",
       "    <tr>\n",
       "      <th>4</th>\n",
       "      <td>137</td>\n",
       "      <td>240 ms</td>\n",
       "      <td>240</td>\n",
       "      <td>196</td>\n",
       "    </tr>\n",
       "  </tbody>\n",
       "</table>\n",
       "</div>"
      ],
      "text/plain": [
       "   distance_mi Response Time (ms)  latency  chicago\n",
       "0          137             259 ms      259      259\n",
       "1          137             290 ms      290      232\n",
       "2          137             211 ms      211      163\n",
       "3          137             173 ms      173      270\n",
       "4          137             240 ms      240      196"
      ]
     },
     "execution_count": 87,
     "metadata": {},
     "output_type": "execute_result"
    }
   ],
   "source": [
    "df2.head()"
   ]
  },
  {
   "cell_type": "code",
   "execution_count": 88,
   "id": "abe19309",
   "metadata": {},
   "outputs": [],
   "source": [
    "df2.rename(columns={'latency':'philadelphia'}, inplace=True)"
   ]
  },
  {
   "cell_type": "code",
   "execution_count": 89,
   "id": "2e1bce49",
   "metadata": {},
   "outputs": [
    {
     "data": {
      "text/html": [
       "<div>\n",
       "<style scoped>\n",
       "    .dataframe tbody tr th:only-of-type {\n",
       "        vertical-align: middle;\n",
       "    }\n",
       "\n",
       "    .dataframe tbody tr th {\n",
       "        vertical-align: top;\n",
       "    }\n",
       "\n",
       "    .dataframe thead th {\n",
       "        text-align: right;\n",
       "    }\n",
       "</style>\n",
       "<table border=\"1\" class=\"dataframe\">\n",
       "  <thead>\n",
       "    <tr style=\"text-align: right;\">\n",
       "      <th></th>\n",
       "      <th>distance_mi</th>\n",
       "      <th>Response Time (ms)</th>\n",
       "      <th>philadelphia</th>\n",
       "      <th>chicago</th>\n",
       "    </tr>\n",
       "  </thead>\n",
       "  <tbody>\n",
       "    <tr>\n",
       "      <th>0</th>\n",
       "      <td>137</td>\n",
       "      <td>259 ms</td>\n",
       "      <td>259</td>\n",
       "      <td>259</td>\n",
       "    </tr>\n",
       "    <tr>\n",
       "      <th>1</th>\n",
       "      <td>137</td>\n",
       "      <td>290 ms</td>\n",
       "      <td>290</td>\n",
       "      <td>232</td>\n",
       "    </tr>\n",
       "    <tr>\n",
       "      <th>2</th>\n",
       "      <td>137</td>\n",
       "      <td>211 ms</td>\n",
       "      <td>211</td>\n",
       "      <td>163</td>\n",
       "    </tr>\n",
       "    <tr>\n",
       "      <th>3</th>\n",
       "      <td>137</td>\n",
       "      <td>173 ms</td>\n",
       "      <td>173</td>\n",
       "      <td>270</td>\n",
       "    </tr>\n",
       "    <tr>\n",
       "      <th>4</th>\n",
       "      <td>137</td>\n",
       "      <td>240 ms</td>\n",
       "      <td>240</td>\n",
       "      <td>196</td>\n",
       "    </tr>\n",
       "  </tbody>\n",
       "</table>\n",
       "</div>"
      ],
      "text/plain": [
       "   distance_mi Response Time (ms)  philadelphia  chicago\n",
       "0          137             259 ms           259      259\n",
       "1          137             290 ms           290      232\n",
       "2          137             211 ms           211      163\n",
       "3          137             173 ms           173      270\n",
       "4          137             240 ms           240      196"
      ]
     },
     "execution_count": 89,
     "metadata": {},
     "output_type": "execute_result"
    }
   ],
   "source": [
    "df2.head()"
   ]
  },
  {
   "cell_type": "code",
   "execution_count": 91,
   "id": "d3f9551e",
   "metadata": {},
   "outputs": [
    {
     "data": {
      "text/plain": [
       "(0.0, 700.0)"
      ]
     },
     "execution_count": 91,
     "metadata": {},
     "output_type": "execute_result"
    },
    {
     "data": {
      "image/png": "[encoded data removed]",
      "text/plain": [
       "<Figure size 1152x576 with 1 Axes>"
      ]
     },
     "metadata": {
      "needs_background": "light"
     },
     "output_type": "display_data"
    }
   ],
   "source": [
    "boxplot = df2.boxplot(column=['philadelphia', 'chicago'], figsize=(16,8))\n",
    "plt.ylim(0,700)"
   ]
  },
  {
   "cell_type": "code",
   "execution_count": 92,
   "id": "d68682ad",
   "metadata": {},
   "outputs": [],
   "source": [
    "#137\n",
    "df2.rename(columns={'philadelphia':'Philadelphia (137 miles)'}, inplace=True)"
   ]
  },
  {
   "cell_type": "code",
   "execution_count": 96,
   "id": "560fe1d2",
   "metadata": {},
   "outputs": [],
   "source": [
    "df2.rename(columns={'chicago':'Chicago (571 miles)'}, inplace=True)"
   ]
  },
  {
   "cell_type": "code",
   "execution_count": 98,
   "id": "3610d754",
   "metadata": {},
   "outputs": [
    {
     "data": {
      "text/plain": [
       "(0.0, 700.0)"
      ]
     },
     "execution_count": 98,
     "metadata": {},
     "output_type": "execute_result"
    },
    {
     "data": {
      "image/png": "[encoded data removed]",
      "text/plain": [
       "<Figure size 1152x576 with 1 Axes>"
      ]
     },
     "metadata": {
      "needs_background": "light"
     },
     "output_type": "display_data"
    }
   ],
   "source": [
    "boxplot = df2.boxplot(column=['Philadelphia (137 miles)', 'Chicago (571 miles)'], figsize=(16,8))\n",
    "plt.ylim(0,700)"
   ]
  },
  {
   "cell_type": "code",
   "execution_count": 103,
   "id": "5d8932bf",
   "metadata": {},
   "outputs": [],
   "source": [
    "df_la = df_dist_latency2[df_dist_latency2['distance_mi'] == 2272].set_index(pd.RangeIndex(999))"
   ]
  },
  {
   "cell_type": "code",
   "execution_count": 104,
   "id": "f0b7d427",
   "metadata": {},
   "outputs": [],
   "source": [
    "df2['Los Angeles (2272 miles)'] = df_la['latency']"
   ]
  },
  {
   "cell_type": "code",
   "execution_count": 105,
   "id": "6d58bbf8",
   "metadata": {},
   "outputs": [
    {
     "data": {
      "text/plain": [
       "(0.0, 700.0)"
      ]
     },
     "execution_count": 105,
     "metadata": {},
     "output_type": "execute_result"
    },
    {
     "data": {
      "image/png": "[encoded data removed]",
      "text/plain": [
       "<Figure size 1152x576 with 1 Axes>"
      ]
     },
     "metadata": {
      "needs_background": "light"
     },
     "output_type": "display_data"
    }
   ],
   "source": [
    "boxplot = df2.boxplot(column=['Philadelphia (137 miles)', 'Chicago (571 miles)', 'Los Angeles (2272 miles)'], figsize=(16,8))\n",
    "plt.ylim(0,700)"
   ]
  },
  {
   "cell_type": "code",
   "execution_count": 99,
   "id": "aa904a66",
   "metadata": {},
   "outputs": [
    {
     "data": {
      "text/html": [
       "<div>\n",
       "<style scoped>\n",
       "    .dataframe tbody tr th:only-of-type {\n",
       "        vertical-align: middle;\n",
       "    }\n",
       "\n",
       "    .dataframe tbody tr th {\n",
       "        vertical-align: top;\n",
       "    }\n",
       "\n",
       "    .dataframe thead th {\n",
       "        text-align: right;\n",
       "    }\n",
       "</style>\n",
       "<table border=\"1\" class=\"dataframe\">\n",
       "  <thead>\n",
       "    <tr style=\"text-align: right;\">\n",
       "      <th></th>\n",
       "      <th>Location</th>\n",
       "      <th>Location_short</th>\n",
       "      <th>lat</th>\n",
       "      <th>lon</th>\n",
       "      <th>distance_mi</th>\n",
       "    </tr>\n",
       "  </thead>\n",
       "  <tbody>\n",
       "    <tr>\n",
       "      <th>2</th>\n",
       "      <td>Philadelphia 2 (PA)</td>\n",
       "      <td>Philadelphia</td>\n",
       "      <td>39.952583</td>\n",
       "      <td>-75.165222</td>\n",
       "      <td>137</td>\n",
       "    </tr>\n",
       "    <tr>\n",
       "      <th>7</th>\n",
       "      <td>Chicago 2 (IL)</td>\n",
       "      <td>Chicago</td>\n",
       "      <td>41.881832</td>\n",
       "      <td>-87.623177</td>\n",
       "      <td>571</td>\n",
       "    </tr>\n",
       "    <tr>\n",
       "      <th>1</th>\n",
       "      <td>Los Angeles 3 (CA)</td>\n",
       "      <td>Los Angeles</td>\n",
       "      <td>34.052235</td>\n",
       "      <td>-118.243683</td>\n",
       "      <td>2272</td>\n",
       "    </tr>\n",
       "    <tr>\n",
       "      <th>3</th>\n",
       "      <td>Portland 2 (OR)</td>\n",
       "      <td>Portland</td>\n",
       "      <td>45.523064</td>\n",
       "      <td>-122.676483</td>\n",
       "      <td>2325</td>\n",
       "    </tr>\n",
       "    <tr>\n",
       "      <th>8</th>\n",
       "      <td>San Francisco 2 (CA)</td>\n",
       "      <td>San Francisco</td>\n",
       "      <td>37.773972</td>\n",
       "      <td>-122.431297</td>\n",
       "      <td>2413</td>\n",
       "    </tr>\n",
       "    <tr>\n",
       "      <th>10</th>\n",
       "      <td>London 5 (UK)</td>\n",
       "      <td>London</td>\n",
       "      <td>51.509865</td>\n",
       "      <td>-0.118092</td>\n",
       "      <td>3676</td>\n",
       "    </tr>\n",
       "    <tr>\n",
       "      <th>5</th>\n",
       "      <td>Dusseldorf 2 (Germany)</td>\n",
       "      <td>Dusseldorf</td>\n",
       "      <td>51.233334</td>\n",
       "      <td>6.783333</td>\n",
       "      <td>3961</td>\n",
       "    </tr>\n",
       "    <tr>\n",
       "      <th>4</th>\n",
       "      <td>Frankfurt 3 (Germany)</td>\n",
       "      <td>Frankfurt</td>\n",
       "      <td>50.110924</td>\n",
       "      <td>8.682127</td>\n",
       "      <td>4068</td>\n",
       "    </tr>\n",
       "    <tr>\n",
       "      <th>0</th>\n",
       "      <td>Stockholm 2 (Sweden)</td>\n",
       "      <td>Stockholm</td>\n",
       "      <td>59.334591</td>\n",
       "      <td>18.063240</td>\n",
       "      <td>4129</td>\n",
       "    </tr>\n",
       "    <tr>\n",
       "      <th>6</th>\n",
       "      <td>Warsaw (Poland)</td>\n",
       "      <td>Warsaw</td>\n",
       "      <td>52.237049</td>\n",
       "      <td>21.017532</td>\n",
       "      <td>4468</td>\n",
       "    </tr>\n",
       "    <tr>\n",
       "      <th>9</th>\n",
       "      <td>Thessaloniki (Greece)</td>\n",
       "      <td>Thessaloniki</td>\n",
       "      <td>40.629269</td>\n",
       "      <td>22.947412</td>\n",
       "      <td>4997</td>\n",
       "    </tr>\n",
       "  </tbody>\n",
       "</table>\n",
       "</div>"
      ],
      "text/plain": [
       "                  Location Location_short        lat         lon  distance_mi\n",
       "2      Philadelphia 2 (PA)   Philadelphia  39.952583  -75.165222          137\n",
       "7           Chicago 2 (IL)        Chicago  41.881832  -87.623177          571\n",
       "1       Los Angeles 3 (CA)    Los Angeles  34.052235 -118.243683         2272\n",
       "3          Portland 2 (OR)       Portland  45.523064 -122.676483         2325\n",
       "8     San Francisco 2 (CA)  San Francisco  37.773972 -122.431297         2413\n",
       "10           London 5 (UK)         London  51.509865   -0.118092         3676\n",
       "5   Dusseldorf 2 (Germany)     Dusseldorf  51.233334    6.783333         3961\n",
       "4    Frankfurt 3 (Germany)      Frankfurt  50.110924    8.682127         4068\n",
       "0     Stockholm 2 (Sweden)      Stockholm  59.334591   18.063240         4129\n",
       "6          Warsaw (Poland)         Warsaw  52.237049   21.017532         4468\n",
       "9    Thessaloniki (Greece)   Thessaloniki  40.629269   22.947412         4997"
      ]
     },
     "execution_count": 99,
     "metadata": {},
     "output_type": "execute_result"
    }
   ],
   "source": [
    "df_loc.sort_values(by=['distance_mi'])"
   ]
  },
  {
   "cell_type": "code",
   "execution_count": 112,
   "id": "bb5ae81c",
   "metadata": {},
   "outputs": [],
   "source": [
    "df2['Portland (2325 miles)'] = df_dist_latency2[df_dist_latency2['distance_mi'] == 2325].set_index(pd.RangeIndex(1000))['latency']"
   ]
  },
  {
   "cell_type": "code",
   "execution_count": 114,
   "id": "beb5aa84",
   "metadata": {},
   "outputs": [],
   "source": [
    "df2['San Francisco (2413 miles)'] = df_dist_latency2[df_dist_latency2['distance_mi'] == 2413].set_index(pd.RangeIndex(1000))['latency']"
   ]
  },
  {
   "cell_type": "code",
   "execution_count": 117,
   "id": "2970c634",
   "metadata": {},
   "outputs": [],
   "source": [
    "df2['London (3676 miles)'] = df_dist_latency2[df_dist_latency2['distance_mi'] == 3676].set_index(pd.RangeIndex(135))['latency']"
   ]
  },
  {
   "cell_type": "code",
   "execution_count": 119,
   "id": "f13b366f",
   "metadata": {},
   "outputs": [],
   "source": [
    "df2['Dusseldorf (3961 miles)'] = df_dist_latency2[df_dist_latency2['distance_mi'] == 3961].set_index(pd.RangeIndex(1000))['latency']"
   ]
  },
  {
   "cell_type": "code",
   "execution_count": 122,
   "id": "7a5eb87f",
   "metadata": {},
   "outputs": [],
   "source": [
    "df2['Frankfurt (4068 miles)'] = df_dist_latency2[df_dist_latency2['distance_mi'] == 4068].set_index(pd.RangeIndex(865))['latency']"
   ]
  },
  {
   "cell_type": "code",
   "execution_count": 125,
   "id": "6fd30968",
   "metadata": {},
   "outputs": [],
   "source": [
    "df2['Stockholm (4129 miles)'] = df_dist_latency2[df_dist_latency2['distance_mi'] == 4129].set_index(pd.RangeIndex(1000))['latency']"
   ]
  },
  {
   "cell_type": "code",
   "execution_count": 127,
   "id": "f55a864b",
   "metadata": {},
   "outputs": [],
   "source": [
    "df2['Warsaw (4468 miles)'] = df_dist_latency2[df_dist_latency2['distance_mi'] == 4468].set_index(pd.RangeIndex(1000))['latency']"
   ]
  },
  {
   "cell_type": "code",
   "execution_count": 129,
   "id": "f4ca39f5",
   "metadata": {},
   "outputs": [],
   "source": [
    "df2['Thessaloniki (4997 miles)'] = df_dist_latency2[df_dist_latency2['distance_mi'] == 4997].set_index(pd.RangeIndex(1000))['latency']"
   ]
  },
  {
   "cell_type": "code",
   "execution_count": 130,
   "id": "42ca64d2",
   "metadata": {},
   "outputs": [
    {
     "data": {
      "text/plain": [
       "(0.0, 700.0)"
      ]
     },
     "execution_count": 130,
     "metadata": {},
     "output_type": "execute_result"
    },
    {
     "data": {
      "image/png": "[encoded data removed]",
      "text/plain": [
       "<Figure size 1152x576 with 1 Axes>"
      ]
     },
     "metadata": {
      "needs_background": "light"
     },
     "output_type": "display_data"
    }
   ],
   "source": [
    "boxplot = df2.boxplot(column=['Philadelphia (137 miles)', 'Chicago (571 miles)', 'Los Angeles (2272 miles)',\n",
    "                             'Portland (2325 miles)', 'San Francisco (2413 miles)',\n",
    "                             'London (3676 miles)', 'Dusseldorf (3961 miles)',\n",
    "                             'Frankfurt (4068 miles)', 'Stockholm (4129 miles)',\n",
    "                             'Warsaw (4468 miles)', 'Thessaloniki (4997 miles)'], figsize=(16,8))\n",
    "plt.ylim(0,700)"
   ]
  },
  {
   "cell_type": "code",
   "execution_count": 136,
   "id": "36f27b31",
   "metadata": {},
   "outputs": [
    {
     "data": {
      "text/plain": [
       "(0.0, 1000.0)"
      ]
     },
     "execution_count": 136,
     "metadata": {},
     "output_type": "execute_result"
    },
    {
     "data": {
      "image/png": "[encoded data removed]",
      "text/plain": [
       "<Figure size 1152x576 with 1 Axes>"
      ]
     },
     "metadata": {
      "needs_background": "light"
     },
     "output_type": "display_data"
    }
   ],
   "source": [
    "boxplot = df2.boxplot(column=['Philadelphia (137 miles)', 'Los Angeles (2272 miles)',\n",
    "                              'San Francisco (2413 miles)',\n",
    "                              'Dusseldorf (3961 miles)',\n",
    "                              'Stockholm (4129 miles)',\n",
    "                             'Thessaloniki (4997 miles)'], figsize=(16,8))\n",
    "plt.ylim(0,1000)"
   ]
  },
  {
   "cell_type": "code",
   "execution_count": 138,
   "id": "a8029b6b",
   "metadata": {},
   "outputs": [
    {
     "data": {
      "text/html": [
       "<div>\n",
       "<style scoped>\n",
       "    .dataframe tbody tr th:only-of-type {\n",
       "        vertical-align: middle;\n",
       "    }\n",
       "\n",
       "    .dataframe tbody tr th {\n",
       "        vertical-align: top;\n",
       "    }\n",
       "\n",
       "    .dataframe thead th {\n",
       "        text-align: right;\n",
       "    }\n",
       "</style>\n",
       "<table border=\"1\" class=\"dataframe\">\n",
       "  <thead>\n",
       "    <tr style=\"text-align: right;\">\n",
       "      <th></th>\n",
       "      <th>Philadelphia (137 miles)</th>\n",
       "    </tr>\n",
       "  </thead>\n",
       "  <tbody>\n",
       "    <tr>\n",
       "      <th>min</th>\n",
       "      <td>72.000</td>\n",
       "    </tr>\n",
       "    <tr>\n",
       "      <th>p25</th>\n",
       "      <td>174.750</td>\n",
       "    </tr>\n",
       "    <tr>\n",
       "      <th>p50</th>\n",
       "      <td>221.500</td>\n",
       "    </tr>\n",
       "    <tr>\n",
       "      <th>p75</th>\n",
       "      <td>261.000</td>\n",
       "    </tr>\n",
       "    <tr>\n",
       "      <th>p90</th>\n",
       "      <td>285.000</td>\n",
       "    </tr>\n",
       "    <tr>\n",
       "      <th>p95</th>\n",
       "      <td>302.050</td>\n",
       "    </tr>\n",
       "    <tr>\n",
       "      <th>p96</th>\n",
       "      <td>308.080</td>\n",
       "    </tr>\n",
       "    <tr>\n",
       "      <th>p97</th>\n",
       "      <td>315.060</td>\n",
       "    </tr>\n",
       "    <tr>\n",
       "      <th>p98</th>\n",
       "      <td>320.000</td>\n",
       "    </tr>\n",
       "    <tr>\n",
       "      <th>p99</th>\n",
       "      <td>335.030</td>\n",
       "    </tr>\n",
       "    <tr>\n",
       "      <th>max</th>\n",
       "      <td>589.000</td>\n",
       "    </tr>\n",
       "    <tr>\n",
       "      <th>mean</th>\n",
       "      <td>216.116</td>\n",
       "    </tr>\n",
       "  </tbody>\n",
       "</table>\n",
       "</div>"
      ],
      "text/plain": [
       "      Philadelphia (137 miles)\n",
       "min                     72.000\n",
       "p25                    174.750\n",
       "p50                    221.500\n",
       "p75                    261.000\n",
       "p90                    285.000\n",
       "p95                    302.050\n",
       "p96                    308.080\n",
       "p97                    315.060\n",
       "p98                    320.000\n",
       "p99                    335.030\n",
       "max                    589.000\n",
       "mean                   216.116"
      ]
     },
     "execution_count": 138,
     "metadata": {},
     "output_type": "execute_result"
    }
   ],
   "source": [
    "data = {'Philadelphia (137 miles)':[df2['Philadelphia (137 miles)'].min(),\n",
    "                      df2.quantile(.25)['Philadelphia (137 miles)'], df2.quantile(.5)['Philadelphia (137 miles)'], \n",
    "                      df2.quantile(.75)['Philadelphia (137 miles)'], df2.quantile(.9)['Philadelphia (137 miles)'], \n",
    "                      df2.quantile(.95)['Philadelphia (137 miles)'], df2.quantile(.96)['Philadelphia (137 miles)'],\n",
    "                      df2.quantile(.97)['Philadelphia (137 miles)'], df2.quantile(.98)['Philadelphia (137 miles)'], \n",
    "                      df2.quantile(.99)['Philadelphia (137 miles)'],\n",
    "                      df2['Philadelphia (137 miles)'].max(),\n",
    "                      df2['Philadelphia (137 miles)'].mean()],\n",
    "        }\n",
    "index = ['min', 'p25', 'p50', 'p75', 'p90', 'p95', 'p96', 'p97', 'p98', 'p99', 'max', 'mean']\n",
    "df3 = pd.DataFrame(data, index=index)\n",
    "df3"
   ]
  },
  {
   "cell_type": "code",
   "execution_count": 144,
   "id": "27f99d80",
   "metadata": {},
   "outputs": [
    {
     "data": {
      "text/html": [
       "<div>\n",
       "<style scoped>\n",
       "    .dataframe tbody tr th:only-of-type {\n",
       "        vertical-align: middle;\n",
       "    }\n",
       "\n",
       "    .dataframe tbody tr th {\n",
       "        vertical-align: top;\n",
       "    }\n",
       "\n",
       "    .dataframe thead th {\n",
       "        text-align: right;\n",
       "    }\n",
       "</style>\n",
       "<table border=\"1\" class=\"dataframe\">\n",
       "  <thead>\n",
       "    <tr style=\"text-align: right;\">\n",
       "      <th></th>\n",
       "      <th>Philadelphia (137 miles)</th>\n",
       "      <th>Los Angeles (2272 miles)</th>\n",
       "      <th>San Francisco (2413 miles)</th>\n",
       "      <th>Dusseldorf (3961 miles)</th>\n",
       "      <th>Stockholm (4129 miles)</th>\n",
       "      <th>Thessaloniki (4997 miles)</th>\n",
       "    </tr>\n",
       "  </thead>\n",
       "  <tbody>\n",
       "    <tr>\n",
       "      <th>min</th>\n",
       "      <td>72</td>\n",
       "      <td>294</td>\n",
       "      <td>340</td>\n",
       "      <td>395</td>\n",
       "      <td>480</td>\n",
       "      <td>586</td>\n",
       "    </tr>\n",
       "    <tr>\n",
       "      <th>p25</th>\n",
       "      <td>174</td>\n",
       "      <td>357</td>\n",
       "      <td>435</td>\n",
       "      <td>549</td>\n",
       "      <td>572</td>\n",
       "      <td>625</td>\n",
       "    </tr>\n",
       "    <tr>\n",
       "      <th>p50</th>\n",
       "      <td>221</td>\n",
       "      <td>374</td>\n",
       "      <td>478</td>\n",
       "      <td>601</td>\n",
       "      <td>620</td>\n",
       "      <td>671</td>\n",
       "    </tr>\n",
       "    <tr>\n",
       "      <th>p75</th>\n",
       "      <td>261</td>\n",
       "      <td>389</td>\n",
       "      <td>526</td>\n",
       "      <td>640</td>\n",
       "      <td>665</td>\n",
       "      <td>727</td>\n",
       "    </tr>\n",
       "    <tr>\n",
       "      <th>p90</th>\n",
       "      <td>285</td>\n",
       "      <td>405</td>\n",
       "      <td>566</td>\n",
       "      <td>672</td>\n",
       "      <td>704</td>\n",
       "      <td>768</td>\n",
       "    </tr>\n",
       "    <tr>\n",
       "      <th>p95</th>\n",
       "      <td>302</td>\n",
       "      <td>418</td>\n",
       "      <td>593</td>\n",
       "      <td>695</td>\n",
       "      <td>724</td>\n",
       "      <td>790</td>\n",
       "    </tr>\n",
       "    <tr>\n",
       "      <th>p96</th>\n",
       "      <td>308</td>\n",
       "      <td>419</td>\n",
       "      <td>603</td>\n",
       "      <td>701</td>\n",
       "      <td>728</td>\n",
       "      <td>799</td>\n",
       "    </tr>\n",
       "    <tr>\n",
       "      <th>p97</th>\n",
       "      <td>315</td>\n",
       "      <td>422</td>\n",
       "      <td>616</td>\n",
       "      <td>705</td>\n",
       "      <td>731</td>\n",
       "      <td>808</td>\n",
       "    </tr>\n",
       "    <tr>\n",
       "      <th>p98</th>\n",
       "      <td>320</td>\n",
       "      <td>434</td>\n",
       "      <td>627</td>\n",
       "      <td>720</td>\n",
       "      <td>745</td>\n",
       "      <td>832</td>\n",
       "    </tr>\n",
       "    <tr>\n",
       "      <th>p99</th>\n",
       "      <td>335</td>\n",
       "      <td>446</td>\n",
       "      <td>674</td>\n",
       "      <td>739</td>\n",
       "      <td>768</td>\n",
       "      <td>1058</td>\n",
       "    </tr>\n",
       "    <tr>\n",
       "      <th>max</th>\n",
       "      <td>589</td>\n",
       "      <td>1156</td>\n",
       "      <td>1548</td>\n",
       "      <td>1820</td>\n",
       "      <td>1611</td>\n",
       "      <td>3068</td>\n",
       "    </tr>\n",
       "    <tr>\n",
       "      <th>mean</th>\n",
       "      <td>216</td>\n",
       "      <td>373</td>\n",
       "      <td>484</td>\n",
       "      <td>594</td>\n",
       "      <td>622</td>\n",
       "      <td>690</td>\n",
       "    </tr>\n",
       "  </tbody>\n",
       "</table>\n",
       "</div>"
      ],
      "text/plain": [
       "      Philadelphia (137 miles)  Los Angeles (2272 miles)  \\\n",
       "min                         72                       294   \n",
       "p25                        174                       357   \n",
       "p50                        221                       374   \n",
       "p75                        261                       389   \n",
       "p90                        285                       405   \n",
       "p95                        302                       418   \n",
       "p96                        308                       419   \n",
       "p97                        315                       422   \n",
       "p98                        320                       434   \n",
       "p99                        335                       446   \n",
       "max                        589                      1156   \n",
       "mean                       216                       373   \n",
       "\n",
       "      San Francisco (2413 miles)  Dusseldorf (3961 miles)  \\\n",
       "min                          340                      395   \n",
       "p25                          435                      549   \n",
       "p50                          478                      601   \n",
       "p75                          526                      640   \n",
       "p90                          566                      672   \n",
       "p95                          593                      695   \n",
       "p96                          603                      701   \n",
       "p97                          616                      705   \n",
       "p98                          627                      720   \n",
       "p99                          674                      739   \n",
       "max                         1548                     1820   \n",
       "mean                         484                      594   \n",
       "\n",
       "      Stockholm (4129 miles)  Thessaloniki (4997 miles)  \n",
       "min                      480                        586  \n",
       "p25                      572                        625  \n",
       "p50                      620                        671  \n",
       "p75                      665                        727  \n",
       "p90                      704                        768  \n",
       "p95                      724                        790  \n",
       "p96                      728                        799  \n",
       "p97                      731                        808  \n",
       "p98                      745                        832  \n",
       "p99                      768                       1058  \n",
       "max                     1611                       3068  \n",
       "mean                     622                        690  "
      ]
     },
     "execution_count": 144,
     "metadata": {},
     "output_type": "execute_result"
    }
   ],
   "source": [
    "data={k:[df2[k].min().astype(int), df2.quantile(.25)[k].astype(int), df2.quantile(.5)[k].astype(int), \n",
    "         df2.quantile(.75)[k].astype(int), \n",
    "         df2.quantile(.9)[k].astype(int), df2.quantile(.95)[k].astype(int), df2.quantile(.96)[k].astype(int), \n",
    "         df2.quantile(.97)[k].astype(int), df2.quantile(.98)[k].astype(int), df2.quantile(.99)[k].astype(int),\n",
    "         df2[k].max().astype(int), df2[k].mean().astype(int)]\n",
    " for k in \n",
    " ['Philadelphia (137 miles)', \n",
    "  'Los Angeles (2272 miles)',\n",
    "  'San Francisco (2413 miles)',\n",
    "  'Dusseldorf (3961 miles)',\n",
    "  'Stockholm (4129 miles)',\n",
    "  'Thessaloniki (4997 miles)']}\n",
    "index = ['min', 'p25', 'p50', 'p75', 'p90', 'p95', 'p96', 'p97', 'p98', 'p99', 'max', 'mean']\n",
    "df3 = pd.DataFrame(data, index=index)\n",
    "df3"
   ]
  },
  {
   "cell_type": "code",
   "execution_count": 149,
   "id": "fecd6f4c",
   "metadata": {},
   "outputs": [
    {
     "data": {
      "text/html": [
       "<div>\n",
       "<style scoped>\n",
       "    .dataframe tbody tr th:only-of-type {\n",
       "        vertical-align: middle;\n",
       "    }\n",
       "\n",
       "    .dataframe tbody tr th {\n",
       "        vertical-align: top;\n",
       "    }\n",
       "\n",
       "    .dataframe thead th {\n",
       "        text-align: right;\n",
       "    }\n",
       "</style>\n",
       "<table border=\"1\" class=\"dataframe\">\n",
       "  <thead>\n",
       "    <tr style=\"text-align: right;\">\n",
       "      <th></th>\n",
       "      <th>min</th>\n",
       "      <th>p25</th>\n",
       "      <th>p50</th>\n",
       "      <th>p75</th>\n",
       "      <th>p90</th>\n",
       "      <th>p95</th>\n",
       "      <th>p96</th>\n",
       "      <th>p97</th>\n",
       "      <th>p98</th>\n",
       "      <th>p99</th>\n",
       "      <th>max</th>\n",
       "      <th>mean</th>\n",
       "    </tr>\n",
       "  </thead>\n",
       "  <tbody>\n",
       "    <tr>\n",
       "      <th>Philadelphia (137 miles)</th>\n",
       "      <td>72</td>\n",
       "      <td>174</td>\n",
       "      <td>221</td>\n",
       "      <td>261</td>\n",
       "      <td>285</td>\n",
       "      <td>302</td>\n",
       "      <td>308</td>\n",
       "      <td>315</td>\n",
       "      <td>320</td>\n",
       "      <td>335</td>\n",
       "      <td>589</td>\n",
       "      <td>216</td>\n",
       "    </tr>\n",
       "    <tr>\n",
       "      <th>Los Angeles (2272 miles)</th>\n",
       "      <td>294</td>\n",
       "      <td>357</td>\n",
       "      <td>374</td>\n",
       "      <td>389</td>\n",
       "      <td>405</td>\n",
       "      <td>418</td>\n",
       "      <td>419</td>\n",
       "      <td>422</td>\n",
       "      <td>434</td>\n",
       "      <td>446</td>\n",
       "      <td>1156</td>\n",
       "      <td>373</td>\n",
       "    </tr>\n",
       "    <tr>\n",
       "      <th>San Francisco (2413 miles)</th>\n",
       "      <td>340</td>\n",
       "      <td>435</td>\n",
       "      <td>478</td>\n",
       "      <td>526</td>\n",
       "      <td>566</td>\n",
       "      <td>593</td>\n",
       "      <td>603</td>\n",
       "      <td>616</td>\n",
       "      <td>627</td>\n",
       "      <td>674</td>\n",
       "      <td>1548</td>\n",
       "      <td>484</td>\n",
       "    </tr>\n",
       "    <tr>\n",
       "      <th>Dusseldorf (3961 miles)</th>\n",
       "      <td>395</td>\n",
       "      <td>549</td>\n",
       "      <td>601</td>\n",
       "      <td>640</td>\n",
       "      <td>672</td>\n",
       "      <td>695</td>\n",
       "      <td>701</td>\n",
       "      <td>705</td>\n",
       "      <td>720</td>\n",
       "      <td>739</td>\n",
       "      <td>1820</td>\n",
       "      <td>594</td>\n",
       "    </tr>\n",
       "    <tr>\n",
       "      <th>Stockholm (4129 miles)</th>\n",
       "      <td>480</td>\n",
       "      <td>572</td>\n",
       "      <td>620</td>\n",
       "      <td>665</td>\n",
       "      <td>704</td>\n",
       "      <td>724</td>\n",
       "      <td>728</td>\n",
       "      <td>731</td>\n",
       "      <td>745</td>\n",
       "      <td>768</td>\n",
       "      <td>1611</td>\n",
       "      <td>622</td>\n",
       "    </tr>\n",
       "    <tr>\n",
       "      <th>Thessaloniki (4997 miles)</th>\n",
       "      <td>586</td>\n",
       "      <td>625</td>\n",
       "      <td>671</td>\n",
       "      <td>727</td>\n",
       "      <td>768</td>\n",
       "      <td>790</td>\n",
       "      <td>799</td>\n",
       "      <td>808</td>\n",
       "      <td>832</td>\n",
       "      <td>1058</td>\n",
       "      <td>3068</td>\n",
       "      <td>690</td>\n",
       "    </tr>\n",
       "  </tbody>\n",
       "</table>\n",
       "</div>"
      ],
      "text/plain": [
       "                            min  p25  p50  p75  p90  p95  p96  p97  p98   p99  \\\n",
       "Philadelphia (137 miles)     72  174  221  261  285  302  308  315  320   335   \n",
       "Los Angeles (2272 miles)    294  357  374  389  405  418  419  422  434   446   \n",
       "San Francisco (2413 miles)  340  435  478  526  566  593  603  616  627   674   \n",
       "Dusseldorf (3961 miles)     395  549  601  640  672  695  701  705  720   739   \n",
       "Stockholm (4129 miles)      480  572  620  665  704  724  728  731  745   768   \n",
       "Thessaloniki (4997 miles)   586  625  671  727  768  790  799  808  832  1058   \n",
       "\n",
       "                             max  mean  \n",
       "Philadelphia (137 miles)     589   216  \n",
       "Los Angeles (2272 miles)    1156   373  \n",
       "San Francisco (2413 miles)  1548   484  \n",
       "Dusseldorf (3961 miles)     1820   594  \n",
       "Stockholm (4129 miles)      1611   622  \n",
       "Thessaloniki (4997 miles)   3068   690  "
      ]
     },
     "execution_count": 149,
     "metadata": {},
     "output_type": "execute_result"
    }
   ],
   "source": [
    "df3.transpose()"
   ]
  },
  {
   "cell_type": "code",
   "execution_count": null,
   "id": "eab1ae1c",
   "metadata": {},
   "outputs": [],
   "source": []
  }
 ],
 "metadata": {
  "kernelspec": {
   "display_name": "XCS221",
   "language": "python",
   "name": "xcs221"
  },
  "language_info": {
   "codemirror_mode": {
    "name": "ipython",
    "version": 3
   },
   "file_extension": ".py",
   "mimetype": "text/x-python",
   "name": "python",
   "nbconvert_exporter": "python",
   "pygments_lexer": "ipython3",
   "version": "3.6.9"
  }
 },
 "nbformat": 4,
 "nbformat_minor": 5
}
